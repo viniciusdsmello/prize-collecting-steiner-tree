{
  "cells": [
    {
      "cell_type": "markdown",
      "metadata": {
        "id": "I1TYM0I17plX"
      },
      "source": [
        "# Prize-Collecting Steiner Tree (PCSTP)"
      ]
    },
    {
      "cell_type": "markdown",
      "metadata": {
        "id": "m5h7aHqj7uS9"
      },
      "source": [
        "## Libs Importing"
      ]
    },
    {
      "cell_type": "code",
      "execution_count": 1,
      "metadata": {
        "id": "xLJwhd8Ctj0U"
      },
      "outputs": [],
      "source": [
        "import sys\n",
        "import os\n",
        "import time\n",
        "import networkx as nx\n",
        "from typing import Tuple, Set\n",
        "\n",
        "sys.path.insert(1, os.path.realpath(os.path.pardir))"
      ]
    },
    {
      "cell_type": "code",
      "execution_count": 2,
      "metadata": {},
      "outputs": [],
      "source": [
        "from pcstp.instances.generator import generate_random_steiner\n",
        "from pcstp.utils.draw import draw_steiner_graph"
      ]
    },
    {
      "cell_type": "markdown",
      "metadata": {
        "id": "Q_po-aQf7_KF"
      },
      "source": [
        "## Experiments"
      ]
    },
    {
      "cell_type": "code",
      "execution_count": 3,
      "metadata": {
        "colab": {
          "base_uri": "https://localhost:8080/",
          "height": 0
        },
        "id": "bvVdAGsytqfP",
        "outputId": "4aae3d05-05b8-44a8-fae0-7bea9b3435b1"
      },
      "outputs": [
        {
          "name": "stdout",
          "output_type": "stream",
          "text": [
            "terminals:  (5,)\n",
            "prizes:  (5,)\n"
          ]
        }
      ],
      "source": [
        "G, (nodes, edges, position_matrix, edges_cost, terminals, prizes) = generate_random_steiner(\n",
        "    num_nodes=25,\n",
        "    num_edges=20,\n",
        "    max_node_degree=10,\n",
        "    min_prize=0,\n",
        "    max_prize=100,\n",
        "    num_terminals=5,\n",
        "    min_edge_cost=0,\n",
        "    max_edge_cost=10,\n",
        "    cost_as_length=False,\n",
        "    max_iter=100,\n",
        "    seed=11\n",
        ")"
      ]
    },
    {
      "cell_type": "code",
      "execution_count": 4,
      "metadata": {
        "id": "sJZLsXUDrzEK"
      },
      "outputs": [],
      "source": [
        "from pcstp.steinertree import SteinerTreeProblem\n",
        "from pcstp.instances.reader import SteinlibReader, DatReader\n",
        "from pcstp.solver.base import computes_steiner_cost"
      ]
    },
    {
      "cell_type": "markdown",
      "metadata": {},
      "source": [
        "The instance can be imported from a file or generated through the instance generator presented above."
      ]
    },
    {
      "cell_type": "code",
      "execution_count": 5,
      "metadata": {},
      "outputs": [],
      "source": [
        "stp = SteinerTreeProblem(graph=G, terminals=terminals)"
      ]
    },
    {
      "cell_type": "code",
      "execution_count": 6,
      "metadata": {},
      "outputs": [],
      "source": [
        "from pcstp.solver.base import computes_steiner_cost"
      ]
    },
    {
      "cell_type": "code",
      "execution_count": 7,
      "metadata": {},
      "outputs": [],
      "source": [
        "from pcstp.utils.graph import preprocessing"
      ]
    },
    {
      "cell_type": "code",
      "execution_count": 8,
      "metadata": {},
      "outputs": [],
      "source": [
        "stp_reader = SteinlibReader()\n",
        "stp = stp_reader.parser(filename='../data/instances/stp/C01-A.stp')"
      ]
    },
    {
      "cell_type": "code",
      "execution_count": 9,
      "metadata": {},
      "outputs": [
        {
          "name": "stdout",
          "output_type": "stream",
          "text": [
            "Nodes:  500\n",
            "Edges:  625\n"
          ]
        }
      ],
      "source": [
        "print(\"Nodes: \", len(stp.graph.nodes))\n",
        "print(\"Edges: \", len(stp.graph.edges))"
      ]
    },
    {
      "cell_type": "code",
      "execution_count": 10,
      "metadata": {},
      "outputs": [
        {
          "name": "stdout",
          "output_type": "stream",
          "text": [
            "Iteration: 1 - Removing nodes: [294, 458, 327, 368, 402, 382, 410, 109, 107, 330, 434, 60, 210, 151, 289, 40, 91, 403, 474, 227, 404, 201, 64, 65, 299, 360, 264, 459, 154, 216, 110, 430, 488, 50, 471, 12, 477, 118, 78, 63, 308, 188, 408, 37, 448, 239, 377, 433, 191, 311, 268, 261, 320, 371, 53, 455, 8, 466, 362, 394, 300, 316, 102, 49, 399, 325, 469, 262, 345, 211, 117, 415, 461, 140, 7, 483, 265, 225, 484, 228, 290, 108, 339, 428, 15, 100, 447, 5, 353, 199, 25, 130, 442, 66, 203, 475, 75, 185, 165, 314, 219, 490, 367, 391, 427, 36, 215, 212, 251, 260, 285, 281, 350, 332, 181, 28, 180, 352, 450, 344, 213, 298, 76, 286, 296, 321, 24, 326, 187, 195, 492, 74, 80, 233, 336, 301, 256, 366, 18, 47, 274, 303, 291]\n",
            "Iteration: 2 - Removing nodes: [282, 462, 424, 146, 149, 378, 409, 287, 413, 182, 340, 232, 189, 234, 248, 275, 193, 436, 324, 156, 133, 331, 145, 445, 115, 255, 92, 217, 472, 62, 356, 106, 498, 220]\n",
            "Iteration: 3 - Removing nodes: [148, 113, 162, 124, 26, 467, 429, 95, 22, 273, 94]\n",
            "Iteration: 4 - Removing nodes: [288]\n"
          ]
        }
      ],
      "source": [
        "G, terminals = preprocessing(stp.graph, stp.terminals)"
      ]
    },
    {
      "cell_type": "code",
      "execution_count": 11,
      "metadata": {},
      "outputs": [],
      "source": [
        "stp_preprocessed = SteinerTreeProblem(graph=G, terminals=terminals)"
      ]
    },
    {
      "cell_type": "code",
      "execution_count": 12,
      "metadata": {},
      "outputs": [
        {
          "name": "stdout",
          "output_type": "stream",
          "text": [
            "Nodes:  311\n",
            "Edges:  436\n"
          ]
        }
      ],
      "source": [
        "print(\"Nodes: \", len(stp_preprocessed.graph.nodes))\n",
        "print(\"Edges: \", len(stp_preprocessed.graph.edges))"
      ]
    },
    {
      "cell_type": "markdown",
      "metadata": {},
      "source": [
        "## Solution obtained with NetworkX Steiner Tree Approximation Algorithm"
      ]
    },
    {
      "cell_type": "code",
      "execution_count": 13,
      "metadata": {},
      "outputs": [
        {
          "name": "stdout",
          "output_type": "stream",
          "text": [
            "Cost: 88\n"
          ]
        }
      ],
      "source": [
        "# %%timeit -n 100\n",
        "\n",
        "start_time = time.time()\n",
        "\n",
        "nx_steiner_tree = nx.algorithms.approximation.steinertree.steiner_tree(\n",
        "    stp_preprocessed.graph,\n",
        "    stp_preprocessed.terminals,\n",
        "    weight='cost'\n",
        ")\n",
        "\n",
        "networkx_duration = time.time() - start_time\n",
        "networkx_cost = computes_steiner_cost(G, nx_steiner_tree, terminals)\n",
        "print(f'Cost: {networkx_cost}')\n"
      ]
    },
    {
      "cell_type": "code",
      "execution_count": 14,
      "metadata": {},
      "outputs": [
        {
          "name": "stdout",
          "output_type": "stream",
          "text": [
            "Duration: 277.8956890106201 ms\n"
          ]
        }
      ],
      "source": [
        "print(f'Duration: {networkx_duration*1000} ms')"
      ]
    },
    {
      "cell_type": "code",
      "execution_count": 15,
      "metadata": {},
      "outputs": [
        {
          "data": {
            "image/png": "[encoded data removed]",
            "text/plain": [
              "<Figure size 1080x1080 with 1 Axes>"
            ]
          },
          "metadata": {
            "needs_background": "light"
          },
          "output_type": "display_data"
        }
      ],
      "source": [
        "try:\n",
        "    draw_steiner_graph(\n",
        "        stp_preprocessed.graph,\n",
        "        steiner_graph=nx_steiner_tree,\n",
        "        plot_title=f'NetworkX Implementation - Cost ({networkx_cost}) - Time ({networkx_duration * 1000} ms)',\n",
        "        node_label='name'\n",
        "    )\n",
        "except:\n",
        "    pass\n"
      ]
    },
    {
      "cell_type": "markdown",
      "metadata": {},
      "source": [
        "## Solution obtained with Ant Colony Optimization"
      ]
    },
    {
      "cell_type": "code",
      "execution_count": 16,
      "metadata": {},
      "outputs": [],
      "source": [
        "from pcstp.solver.aco import AntColony"
      ]
    },
    {
      "cell_type": "code",
      "execution_count": 24,
      "metadata": {},
      "outputs": [
        {
          "name": "stderr",
          "output_type": "stream",
          "text": [
            "2022-01-26 10:03:48,591 - [aco.py:235] - INFO - Best Iteration: 5 - Best Cost: 257\n"
          ]
        }
      ],
      "source": [
        "# %%timeit -n 100\n",
        "\n",
        "solver = AntColony(\n",
        "    graph=stp_preprocessed.graph,\n",
        "    terminals=stp_preprocessed.terminals,\n",
        "    iterations=100,\n",
        "    num_ants=1,\n",
        "    evaporation_rate=0.2,\n",
        "    alpha=1.0,\n",
        "    beta=1,\n",
        "    beta_evaporation_rate=0.4,\n",
        "    initial_pheromone=0.1,\n",
        "    pheromone_amount=1,\n",
        "    pheromone_initialization_strategy='same_value',\n",
        "    choose_best=0.3,\n",
        "    log_level='info',\n",
        "    early_stopping=None\n",
        ")\n",
        "steiner_tree, steirner_cost = solver.solve()\n"
      ]
    },
    {
      "cell_type": "code",
      "execution_count": 18,
      "metadata": {},
      "outputs": [
        {
          "name": "stdout",
          "output_type": "stream",
          "text": [
            "Cost: 620\n"
          ]
        }
      ],
      "source": [
        "print(f'Cost: {steirner_cost}')"
      ]
    },
    {
      "cell_type": "code",
      "execution_count": 19,
      "metadata": {},
      "outputs": [
        {
          "name": "stdout",
          "output_type": "stream",
          "text": [
            "Duration: 36.661386489868164 ms\n"
          ]
        }
      ],
      "source": [
        "print(f'Duration: {solver._duration * 1000} ms')"
      ]
    },
    {
      "cell_type": "code",
      "execution_count": 20,
      "metadata": {},
      "outputs": [],
      "source": [
        "import matplotlib.pyplot as plt"
      ]
    },
    {
      "cell_type": "code",
      "execution_count": 25,
      "metadata": {},
      "outputs": [
        {
          "data": {
            "text/plain": [
              "Text(0, 0.5, 'Steiner Cost')"
            ]
          },
          "execution_count": 25,
          "metadata": {},
          "output_type": "execute_result"
        },
        {
          "data": {
            "image/png": "[encoded data removed]",
            "text/plain": [
              "<Figure size 360x360 with 1 Axes>"
            ]
          },
          "metadata": {
            "needs_background": "light"
          },
          "output_type": "display_data"
        }
      ],
      "source": [
        "\n",
        "fig, ax = plt.subplots(1, 1,figsize=(5,5))\n",
        "\n",
        "ax.plot(solver.history)\n",
        "ax.set_title(\"ACO Steiner Cost per Iterations\")\n",
        "ax.set_xlabel(\"Iterations\")\n",
        "ax.set_ylabel(\"Steiner Cost\")"
      ]
    },
    {
      "cell_type": "code",
      "execution_count": 22,
      "metadata": {},
      "outputs": [
        {
          "data": {
            "image/png": "[encoded data removed]",
            "text/plain": [
              "<Figure size 1080x1080 with 1 Axes>"
            ]
          },
          "metadata": {
            "needs_background": "light"
          },
          "output_type": "display_data"
        }
      ],
      "source": [
        "try:\n",
        "    draw_steiner_graph(\n",
        "        stp_preprocessed.graph,\n",
        "        steiner_graph=steiner_tree,\n",
        "        plot_title=f'ACO Implementation - Cost ({networkx_cost}) - Time ({networkx_duration * 1000} ms)',\n",
        "        node_label='name'\n",
        "    )\n",
        "except:\n",
        "    pass\n"
      ]
    },
    {
      "cell_type": "code",
      "execution_count": 23,
      "metadata": {},
      "outputs": [
        {
          "data": {
            "text/plain": [
              "NodeView((128, 127, 278, 267, 375, 319, 454, 414, 246, 129, 150, 88, 460, 119, 57, 120, 499, 164, 19, 363, 449, 77, 370, 177, 105, 307, 143, 355, 242, 341, 3, 380, 494, 372, 223, 373, 51, 209, 32, 167, 214, 426, 284, 190, 374, 13, 468, 39, 411, 486, 457, 334, 485, 479, 390, 172, 70, 112, 4, 48, 349, 41, 147, 323, 90, 20, 401, 241, 142, 376, 297, 465, 315, 33, 166, 46, 205, 310, 389, 252, 456, 393, 309, 144, 6, 202, 354, 152, 222, 59, 280, 52, 244, 226, 96, 343, 174, 243, 396, 359, 38, 407, 495, 134, 322, 441, 277, 72, 179, 276, 269, 412, 123, 207, 338, 173, 21, 153, 249, 161, 125, 386, 392, 200, 245, 406, 206, 236, 397, 30, 398, 155, 139))"
            ]
          },
          "execution_count": 23,
          "metadata": {},
          "output_type": "execute_result"
        }
      ],
      "source": [
        "steiner_tree.nodes"
      ]
    }
  ],
  "metadata": {
    "colab": {
      "collapsed_sections": [],
      "name": "Prize-Collecting Steiner Tree Problem.ipynb",
      "provenance": []
    },
    "kernelspec": {
      "display_name": "Python 3",
      "name": "python3"
    },
    "language_info": {
      "codemirror_mode": {
        "name": "ipython",
        "version": 3
      },
      "file_extension": ".py",
      "mimetype": "text/x-python",
      "name": "python",
      "nbconvert_exporter": "python",
      "pygments_lexer": "ipython3",
      "version": "3.8.10"
    }
  },
  "nbformat": 4,
  "nbformat_minor": 0
}
