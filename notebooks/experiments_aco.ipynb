{
  "cells": [
    {
      "cell_type": "markdown",
      "metadata": {
        "id": "I1TYM0I17plX"
      },
      "source": [
        "# Prize-Collecting Steiner Tree (PCSTP)"
      ]
    },
    {
      "cell_type": "markdown",
      "metadata": {
        "id": "m5h7aHqj7uS9"
      },
      "source": [
        "## Libs Importing"
      ]
    },
    {
      "cell_type": "code",
      "execution_count": null,
      "metadata": {
        "id": "xLJwhd8Ctj0U"
      },
      "outputs": [],
      "source": [
        "import sys\n",
        "import os\n",
        "import time\n",
        "import networkx as nx\n",
        "\n",
        "sys.path.insert(1, os.path.realpath(os.path.pardir))"
      ]
    },
    {
      "cell_type": "code",
      "execution_count": null,
      "metadata": {},
      "outputs": [],
      "source": [
        "from pcstp.instances.generator import generate_random_steiner\n",
        "from pcstp.utils.draw import draw_steiner_graph"
      ]
    },
    {
      "cell_type": "markdown",
      "metadata": {
        "id": "Q_po-aQf7_KF"
      },
      "source": [
        "## Experiments"
      ]
    },
    {
      "cell_type": "code",
      "execution_count": null,
      "metadata": {},
      "outputs": [],
      "source": [
        "SEED = 100"
      ]
    },
    {
      "cell_type": "code",
      "execution_count": null,
      "metadata": {
        "colab": {
          "base_uri": "https://localhost:8080/",
          "height": 0
        },
        "id": "bvVdAGsytqfP",
        "outputId": "4aae3d05-05b8-44a8-fae0-7bea9b3435b1"
      },
      "outputs": [],
      "source": [
        "G, (nodes, edges, position_matrix, edges_cost, terminals, prizes) = generate_random_steiner(\n",
        "    num_nodes=25,\n",
        "    num_edges=20,\n",
        "    max_node_degree=10,\n",
        "    min_prize=1,\n",
        "    max_prize=100,\n",
        "    num_terminals=5,\n",
        "    min_edge_cost=0,\n",
        "    max_edge_cost=10,\n",
        "    cost_as_length=False,\n",
        "    max_iter=100,\n",
        "    seed=SEED\n",
        ")"
      ]
    },
    {
      "cell_type": "code",
      "execution_count": null,
      "metadata": {
        "id": "sJZLsXUDrzEK"
      },
      "outputs": [],
      "source": [
        "from pcstp.steinertree import SteinerTreeProblem\n",
        "from pcstp.instances.reader import SteinlibReader, DatReader\n",
        "from pcstp.solver.base import computes_steiner_cost"
      ]
    },
    {
      "cell_type": "markdown",
      "metadata": {},
      "source": [
        "The instance can be imported from a file or generated through the instance generator presented above."
      ]
    },
    {
      "cell_type": "code",
      "execution_count": null,
      "metadata": {},
      "outputs": [],
      "source": [
        "stp = SteinerTreeProblem(graph=G, terminals=terminals)"
      ]
    },
    {
      "cell_type": "code",
      "execution_count": null,
      "metadata": {},
      "outputs": [],
      "source": [
        "from pcstp.solver.base import computes_steiner_cost"
      ]
    },
    {
      "cell_type": "code",
      "execution_count": null,
      "metadata": {},
      "outputs": [],
      "source": [
        "from pcstp.utils.graph import preprocessing"
      ]
    },
    {
      "cell_type": "code",
      "execution_count": null,
      "metadata": {},
      "outputs": [],
      "source": [
        "filename = '../data/instances/benchmark/PCSPG-CRR/C01-A.stp'\n",
        "\n",
        "if filename.endswith('.stp'):\n",
        "    stp_reader = SteinlibReader()\n",
        "else:\n",
        "    stp_reader = DatReader()\n",
        "\n",
        "# stp = stp_reader.parser(filename=filename)\n"
      ]
    },
    {
      "cell_type": "code",
      "execution_count": null,
      "metadata": {},
      "outputs": [],
      "source": [
        "print(\"Nodes: \", len(stp.graph.nodes))\n",
        "print(\"Edges: \", len(stp.graph.edges))\n",
        "print(\"Terminals: \", stp.terminals)"
      ]
    },
    {
      "cell_type": "code",
      "execution_count": null,
      "metadata": {},
      "outputs": [],
      "source": [
        "G, terminals = preprocessing(stp.graph, stp.terminals, verbose=True)"
      ]
    },
    {
      "cell_type": "code",
      "execution_count": null,
      "metadata": {},
      "outputs": [],
      "source": [
        "stp_preprocessed = SteinerTreeProblem(graph=G, terminals=terminals)"
      ]
    },
    {
      "cell_type": "code",
      "execution_count": null,
      "metadata": {},
      "outputs": [],
      "source": [
        "print(\"Nodes: \", len(stp_preprocessed.graph.nodes))\n",
        "print(\"Edges: \", len(stp_preprocessed.graph.edges))\n",
        "print(\"Terminals: \", stp_preprocessed.terminals)"
      ]
    },
    {
      "cell_type": "code",
      "execution_count": null,
      "metadata": {},
      "outputs": [],
      "source": [
        "import networkx.algorithms.components as comp\n",
        "conn_components = list(comp.connected_components(stp_preprocessed.graph))\n",
        "\n",
        "print(conn_components)"
      ]
    },
    {
      "cell_type": "markdown",
      "metadata": {},
      "source": [
        "## Solution obtained with NetworkX Steiner Tree Approximation Algorithm"
      ]
    },
    {
      "cell_type": "code",
      "execution_count": null,
      "metadata": {},
      "outputs": [],
      "source": [
        "# %%timeit -n 100\n",
        "\n",
        "start_time = time.time()\n",
        "\n",
        "nx_steiner_tree = nx.algorithms.approximation.steiner_tree(\n",
        "    stp_preprocessed.graph,\n",
        "    stp_preprocessed.terminals,\n",
        "    weight='cost'\n",
        ")\n",
        "\n",
        "networkx_duration = time.time() - start_time\n",
        "networkx_cost = computes_steiner_cost(stp.graph, nx_steiner_tree, stp.terminals)\n",
        "print(f'Cost: {networkx_cost}')\n"
      ]
    },
    {
      "cell_type": "code",
      "execution_count": null,
      "metadata": {},
      "outputs": [],
      "source": [
        "tree = stp.graph.subgraph(nx_steiner_tree.nodes)"
      ]
    },
    {
      "cell_type": "code",
      "execution_count": null,
      "metadata": {},
      "outputs": [],
      "source": [
        "print(f'Duration: {networkx_duration*1000} ms')"
      ]
    },
    {
      "cell_type": "code",
      "execution_count": null,
      "metadata": {},
      "outputs": [],
      "source": [
        "try:\n",
        "    draw_steiner_graph(\n",
        "        stp_preprocessed.graph,\n",
        "        steiner_graph=nx_steiner_tree,\n",
        "        plot_title=f'NetworkX Implementation - Cost ({networkx_cost}) - Time ({networkx_duration * 1000} ms)',\n",
        "        node_label='name',\n",
        "        seed=SEED\n",
        "    )\n",
        "except Exception as e:\n",
        "    print(e)\n"
      ]
    },
    {
      "cell_type": "markdown",
      "metadata": {},
      "source": [
        "## Solution obtained with Ant Colony Optimization"
      ]
    },
    {
      "cell_type": "code",
      "execution_count": null,
      "metadata": {},
      "outputs": [],
      "source": [
        "from pcstp.solver.aco import AntColony"
      ]
    },
    {
      "cell_type": "code",
      "execution_count": null,
      "metadata": {},
      "outputs": [],
      "source": [
        "solver = AntColony(\n",
        "    graph=stp_preprocessed.graph,\n",
        "    terminals=stp.terminals,\n",
        "    iterations=1,\n",
        "    num_ants=1,\n",
        "    evaporation_rate=0.2,\n",
        "    alpha=1.0,\n",
        "    beta=3.0,\n",
        "    # beta_evaporation_rate=0.2,\n",
        "    initial_pheromone=1,\n",
        "    pheromone_amount=10,\n",
        "    pheromone_deposit_strategy='traditional',\n",
        "    pheromone_initialization_strategy='same_value',\n",
        "    choose_best=0.1,\n",
        "    log_level='debug',\n",
        "    early_stopping=None,\n",
        "    normalize_distance_prize=False,\n",
        "    allow_edge_perturbation=False,\n",
        "    seed=SEED\n",
        ")\n",
        "steiner_tree, steirner_cost = solver.solve()\n"
      ]
    },
    {
      "cell_type": "code",
      "execution_count": null,
      "metadata": {},
      "outputs": [],
      "source": [
        "print(f'Cost: {steirner_cost}')"
      ]
    },
    {
      "cell_type": "code",
      "execution_count": null,
      "metadata": {},
      "outputs": [],
      "source": [
        "print(f'Duration: {solver._duration * 1000} ms')"
      ]
    },
    {
      "cell_type": "code",
      "execution_count": null,
      "metadata": {},
      "outputs": [],
      "source": [
        "solver.best_route"
      ]
    },
    {
      "cell_type": "code",
      "execution_count": null,
      "metadata": {},
      "outputs": [],
      "source": [
        "import matplotlib.pyplot as plt"
      ]
    },
    {
      "cell_type": "code",
      "execution_count": null,
      "metadata": {},
      "outputs": [],
      "source": [
        "if len(solver.history) > 1:\n",
        "    fig, ax = plt.subplots(1, 1,figsize=(5,5))\n",
        "\n",
        "    ax.plot(solver.history)\n",
        "    ax.set_title(\"ACO Steiner Cost per Iterations\")\n",
        "    ax.set_xlabel(\"Iterations\")\n",
        "    ax.set_ylabel(\"Steiner Cost\")"
      ]
    },
    {
      "cell_type": "code",
      "execution_count": null,
      "metadata": {},
      "outputs": [],
      "source": [
        "try:\n",
        "    draw_steiner_graph(\n",
        "        stp_preprocessed.graph,\n",
        "        steiner_graph=steiner_tree,\n",
        "        plot_title=f'ACO Implementation - Cost ({networkx_cost}) - Time ({networkx_duration * 1000} ms)',\n",
        "        node_label='name'\n",
        "    )\n",
        "except:\n",
        "    pass\n",
        "\n",
        "print('Best Route to find all terminals:', solver.best_route)\n",
        "\n"
      ]
    }
  ],
  "metadata": {
    "colab": {
      "collapsed_sections": [],
      "name": "Prize-Collecting Steiner Tree Problem.ipynb",
      "provenance": []
    },
    "kernelspec": {
      "display_name": "Python 3",
      "name": "python3"
    },
    "language_info": {
      "codemirror_mode": {
        "name": "ipython",
        "version": 3
      },
      "file_extension": ".py",
      "mimetype": "text/x-python",
      "name": "python",
      "nbconvert_exporter": "python",
      "pygments_lexer": "ipython3",
      "version": "3.8.10"
    }
  },
  "nbformat": 4,
  "nbformat_minor": 0
}
