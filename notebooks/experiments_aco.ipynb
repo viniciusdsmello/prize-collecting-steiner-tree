{
  "cells": [
    {
      "cell_type": "markdown",
      "metadata": {
        "id": "I1TYM0I17plX"
      },
      "source": [
        "# Prize-Collecting Steiner Tree (PCSTP)"
      ]
    },
    {
      "cell_type": "markdown",
      "metadata": {
        "id": "m5h7aHqj7uS9"
      },
      "source": [
        "## Libs Importing"
      ]
    },
    {
      "cell_type": "code",
      "execution_count": 1,
      "metadata": {
        "id": "xLJwhd8Ctj0U"
      },
      "outputs": [],
      "source": [
        "import sys\n",
        "import os\n",
        "import time\n",
        "import networkx as nx\n",
        "\n",
        "sys.path.insert(1, os.path.realpath(os.path.pardir))"
      ]
    },
    {
      "cell_type": "code",
      "execution_count": 2,
      "metadata": {},
      "outputs": [],
      "source": [
        "from pcstp.instances.generator import generate_random_steiner\n",
        "from pcstp.utils.draw import draw_steiner_graph"
      ]
    },
    {
      "cell_type": "markdown",
      "metadata": {
        "id": "Q_po-aQf7_KF"
      },
      "source": [
        "## Experiments"
      ]
    },
    {
      "cell_type": "code",
      "execution_count": 3,
      "metadata": {},
      "outputs": [],
      "source": [
        "SEED = 100"
      ]
    },
    {
      "cell_type": "code",
      "execution_count": 4,
      "metadata": {
        "colab": {
          "base_uri": "https://localhost:8080/",
          "height": 0
        },
        "id": "bvVdAGsytqfP",
        "outputId": "4aae3d05-05b8-44a8-fae0-7bea9b3435b1"
      },
      "outputs": [
        {
          "name": "stdout",
          "output_type": "stream",
          "text": [
            "terminals:  (5,)\n",
            "prizes:  (5,)\n"
          ]
        }
      ],
      "source": [
        "G, (nodes, edges, position_matrix, edges_cost, terminals, prizes) = generate_random_steiner(\n",
        "    num_nodes=25,\n",
        "    num_edges=20,\n",
        "    max_node_degree=10,\n",
        "    min_prize=1,\n",
        "    max_prize=100,\n",
        "    num_terminals=5,\n",
        "    min_edge_cost=0,\n",
        "    max_edge_cost=10,\n",
        "    cost_as_length=False,\n",
        "    max_iter=100,\n",
        "    seed=SEED\n",
        ")"
      ]
    },
    {
      "cell_type": "code",
      "execution_count": 5,
      "metadata": {
        "id": "sJZLsXUDrzEK"
      },
      "outputs": [],
      "source": [
        "from pcstp.steinertree import SteinerTreeProblem\n",
        "from pcstp.instances.reader import SteinlibReader, DatReader\n",
        "from pcstp.solver.base import computes_steiner_cost"
      ]
    },
    {
      "cell_type": "markdown",
      "metadata": {},
      "source": [
        "The instance can be imported from a file or generated through the instance generator presented above."
      ]
    },
    {
      "cell_type": "code",
      "execution_count": 6,
      "metadata": {},
      "outputs": [],
      "source": [
        "stp = SteinerTreeProblem(graph=G, terminals=terminals)"
      ]
    },
    {
      "cell_type": "code",
      "execution_count": 7,
      "metadata": {},
      "outputs": [],
      "source": [
        "from pcstp.solver.base import computes_steiner_cost"
      ]
    },
    {
      "cell_type": "code",
      "execution_count": 8,
      "metadata": {},
      "outputs": [],
      "source": [
        "from pcstp.utils.graph import preprocessing"
      ]
    },
    {
      "cell_type": "code",
      "execution_count": 9,
      "metadata": {},
      "outputs": [],
      "source": [
        "filename = '../data/instances/benchmark/RPCST-cologne/cologne1/i104M2.stp'\n",
        "\n",
        "if filename.endswith('.stp'):\n",
        "    stp_reader = SteinlibReader()\n",
        "else:\n",
        "    stp_reader = DatReader()\n",
        "\n",
        "stp = stp_reader.parser(filename=filename)\n"
      ]
    },
    {
      "cell_type": "code",
      "execution_count": 10,
      "metadata": {},
      "outputs": [
        {
          "name": "stdout",
          "output_type": "stream",
          "text": [
            "Nodes:  741\n",
            "Edges:  6293\n",
            "Terminals:  {1, 738, 739, 740}\n"
          ]
        }
      ],
      "source": [
        "print(\"Nodes: \", len(stp.graph.nodes))\n",
        "print(\"Edges: \", len(stp.graph.edges))\n",
        "print(\"Terminals: \", stp.terminals)"
      ]
    },
    {
      "cell_type": "code",
      "execution_count": 11,
      "metadata": {},
      "outputs": [
        {
          "name": "stdout",
          "output_type": "stream",
          "text": [
            "Iteration: 1 - Removing nodes: [7, 654, 673, 677, 692, 695, 697, 700, 711, 727, 728, 737, 741]\n",
            "Iteration: 2 - Removing nodes: [678, 696, 701, 712, 726, 729, 736]\n",
            "Iteration: 3 - Removing nodes: [684, 730]\n",
            "Iteration: 4 - Removing nodes: [685, 731]\n",
            "Iteration: 5 - Removing nodes: [683, 732]\n",
            "Iteration: 6 - Removing nodes: [676, 733]\n",
            "Iteration: 7 - Removing nodes: [675, 734]\n",
            "Iteration: 8 - Removing nodes: [680, 735]\n",
            "Iteration: 9 - Removing nodes: [682, 710]\n",
            "Iteration: 10 - Removing nodes: [681, 709]\n",
            "Iteration: 11 - Removing nodes: [679, 708]\n",
            "Iteration: 12 - Removing nodes: [674, 707]\n",
            "Iteration: 13 - Removing nodes: [672, 706]\n",
            "Iteration: 14 - Removing nodes: [671, 703]\n",
            "Iteration: 15 - Removing nodes: [670, 705]\n",
            "Iteration: 16 - Removing nodes: [669, 704]\n",
            "Iteration: 17 - Removing nodes: [668, 702]\n",
            "Iteration: 18 - Removing nodes: [667, 699]\n",
            "Iteration: 19 - Removing nodes: [666, 698]\n",
            "Iteration: 20 - Removing nodes: [665, 694]\n",
            "Iteration: 21 - Removing nodes: [664, 693]\n",
            "Iteration: 22 - Removing nodes: [663, 725]\n",
            "Iteration: 23 - Removing nodes: [662, 691]\n",
            "Iteration: 24 - Removing nodes: [656, 690]\n",
            "Iteration: 25 - Removing nodes: [657, 724]\n",
            "Iteration: 26 - Removing nodes: [658, 689]\n",
            "Iteration: 27 - Removing nodes: [659, 688]\n",
            "Iteration: 28 - Removing nodes: [661, 687]\n",
            "Iteration: 29 - Removing nodes: [660, 686]\n"
          ]
        }
      ],
      "source": [
        "G, terminals = preprocessing(stp.graph, stp.terminals, verbose=True)"
      ]
    },
    {
      "cell_type": "code",
      "execution_count": 12,
      "metadata": {},
      "outputs": [],
      "source": [
        "stp_preprocessed = SteinerTreeProblem(graph=G, terminals=terminals)"
      ]
    },
    {
      "cell_type": "code",
      "execution_count": 13,
      "metadata": {},
      "outputs": [
        {
          "name": "stdout",
          "output_type": "stream",
          "text": [
            "Nodes:  667\n",
            "Edges:  6219\n",
            "Terminals:  {1, 738, 739, 740}\n"
          ]
        }
      ],
      "source": [
        "print(\"Nodes: \", len(stp_preprocessed.graph.nodes))\n",
        "print(\"Edges: \", len(stp_preprocessed.graph.edges))\n",
        "print(\"Terminals: \", stp_preprocessed.terminals)"
      ]
    },
    {
      "cell_type": "code",
      "execution_count": 14,
      "metadata": {},
      "outputs": [
        {
          "name": "stdout",
          "output_type": "stream",
          "text": [
            "[{1, 2, 3, 4, 5, 6, 8, 9, 10, 11, 12, 13, 14, 15, 16, 17, 18, 19, 20, 21, 22, 23, 24, 25, 26, 27, 28, 29, 30, 31, 32, 33, 34, 35, 36, 37, 38, 39, 40, 41, 42, 43, 44, 45, 46, 47, 48, 49, 50, 51, 52, 53, 54, 55, 56, 57, 58, 59, 60, 61, 62, 63, 64, 65, 66, 67, 68, 69, 70, 71, 72, 73, 74, 75, 76, 77, 78, 79, 80, 81, 82, 83, 84, 85, 86, 87, 88, 89, 90, 91, 92, 93, 94, 95, 96, 97, 98, 99, 100, 101, 102, 103, 104, 105, 106, 107, 108, 109, 110, 111, 112, 113, 114, 115, 116, 117, 118, 119, 120, 121, 122, 123, 124, 125, 126, 127, 128, 129, 130, 131, 132, 133, 134, 135, 136, 137, 138, 139, 140, 141, 142, 143, 144, 145, 146, 147, 148, 149, 150, 151, 152, 153, 154, 155, 156, 157, 158, 159, 160, 161, 162, 163, 164, 165, 166, 167, 168, 169, 170, 171, 172, 173, 174, 175, 176, 177, 178, 179, 180, 181, 182, 183, 184, 185, 186, 187, 188, 189, 190, 191, 192, 193, 194, 195, 196, 197, 198, 199, 200, 201, 202, 203, 204, 205, 206, 207, 208, 209, 210, 211, 212, 213, 214, 215, 216, 217, 218, 219, 220, 221, 222, 223, 224, 225, 226, 227, 228, 229, 230, 231, 232, 233, 234, 235, 236, 237, 238, 239, 240, 241, 242, 243, 244, 245, 246, 247, 248, 249, 250, 251, 252, 253, 254, 255, 256, 257, 258, 259, 260, 261, 262, 263, 264, 265, 266, 267, 268, 269, 270, 271, 272, 273, 274, 275, 276, 277, 278, 279, 280, 281, 282, 283, 284, 285, 286, 287, 288, 289, 290, 291, 292, 293, 294, 295, 296, 297, 298, 299, 300, 301, 302, 303, 304, 305, 306, 307, 308, 309, 310, 311, 312, 313, 314, 315, 316, 317, 318, 319, 320, 321, 322, 323, 324, 325, 326, 327, 328, 329, 330, 331, 332, 333, 334, 335, 336, 337, 338, 339, 340, 341, 342, 343, 344, 345, 346, 347, 348, 349, 350, 351, 352, 353, 354, 355, 356, 357, 358, 359, 360, 361, 362, 363, 364, 365, 366, 367, 368, 369, 370, 371, 372, 373, 374, 375, 376, 377, 378, 379, 380, 381, 382, 383, 384, 385, 386, 387, 388, 389, 390, 391, 392, 393, 394, 395, 396, 397, 398, 399, 400, 401, 402, 403, 404, 405, 406, 407, 408, 409, 410, 411, 412, 413, 414, 415, 416, 417, 418, 419, 420, 421, 422, 423, 424, 425, 426, 427, 428, 429, 430, 431, 432, 433, 434, 435, 436, 437, 438, 439, 440, 441, 442, 443, 444, 445, 446, 447, 448, 449, 450, 451, 452, 453, 454, 455, 456, 457, 458, 459, 460, 461, 462, 463, 464, 465, 466, 467, 468, 469, 470, 471, 472, 473, 474, 475, 476, 477, 478, 479, 480, 481, 482, 483, 484, 485, 486, 487, 488, 489, 490, 491, 492, 493, 494, 495, 496, 497, 498, 499, 500, 501, 502, 503, 504, 505, 506, 507, 508, 509, 510, 511, 512, 513, 514, 515, 516, 517, 518, 519, 520, 521, 522, 523, 524, 525, 526, 527, 528, 529, 530, 531, 532, 533, 534, 535, 536, 537, 538, 539, 540, 541, 542, 543, 544, 545, 546, 547, 548, 549, 550, 551, 552, 553, 554, 555, 556, 557, 558, 559, 560, 561, 562, 563, 564, 565, 566, 567, 568, 569, 570, 571, 572, 573, 574, 575, 576, 577, 578, 579, 580, 581, 582, 583, 584, 585, 586, 587, 588, 589, 590, 591, 592, 593, 594, 595, 596, 597, 598, 599, 600, 601, 602, 603, 604, 605, 606, 607, 608, 609, 610, 611, 612, 613, 614, 615, 616, 617, 618, 619, 620, 621, 622, 623, 624, 625, 626, 627, 628, 629, 630, 631, 632, 633, 634, 635, 636, 637, 638, 639, 640, 641, 642, 643, 644, 645, 646, 647, 648, 649, 650, 651, 652, 653, 655, 713, 714, 715, 716, 717, 718, 719, 720, 721, 722, 723, 738, 739, 740}]\n"
          ]
        }
      ],
      "source": [
        "import networkx.algorithms.components as comp\n",
        "conn_components = list(comp.connected_components(stp_preprocessed.graph))\n",
        "\n",
        "print(conn_components)"
      ]
    },
    {
      "cell_type": "code",
      "execution_count": 16,
      "metadata": {},
      "outputs": [],
      "source": [
        "# try:\n",
        "#     draw_steiner_graph(\n",
        "#         stp.graph,\n",
        "#         plot_title=f'Before Pre Processing',\n",
        "#         node_label='name',\n",
        "#         seed=SEED\n",
        "#     )\n",
        "# except Exception as e:\n",
        "#     print(e)\n"
      ]
    },
    {
      "cell_type": "code",
      "execution_count": 17,
      "metadata": {},
      "outputs": [],
      "source": [
        "# try:\n",
        "#     draw_steiner_graph(\n",
        "#         stp_preprocessed.graph,\n",
        "#         plot_title=f'After Pre Processing',\n",
        "#         node_label='name',\n",
        "#         seed=SEED\n",
        "#     )\n",
        "# except Exception as e:\n",
        "#     print(e)\n"
      ]
    },
    {
      "cell_type": "markdown",
      "metadata": {},
      "source": [
        "## Solution obtained with NetworkX Steiner Tree Approximation Algorithm"
      ]
    },
    {
      "cell_type": "code",
      "execution_count": 18,
      "metadata": {},
      "outputs": [
        {
          "name": "stdout",
          "output_type": "stream",
          "text": [
            "Cost: 101947.78900799999\n"
          ]
        }
      ],
      "source": [
        "# %%timeit -n 100\n",
        "\n",
        "start_time = time.time()\n",
        "\n",
        "nx_steiner_tree = nx.algorithms.approximation.steiner_tree(\n",
        "    stp_preprocessed.graph,\n",
        "    stp_preprocessed.terminals,\n",
        "    weight='cost'\n",
        ")\n",
        "\n",
        "networkx_duration = time.time() - start_time\n",
        "networkx_cost = computes_steiner_cost(stp.graph, nx_steiner_tree, stp.terminals)\n",
        "print(f'Cost: {networkx_cost}')\n"
      ]
    },
    {
      "cell_type": "code",
      "execution_count": 19,
      "metadata": {},
      "outputs": [
        {
          "data": {
            "text/plain": [
              "NodeView((1, 385, 739, 740, 376, 390, 391, 264, 738, 335, 368, 628, 344, 348, 221))"
            ]
          },
          "execution_count": 19,
          "metadata": {},
          "output_type": "execute_result"
        }
      ],
      "source": [
        "nx_steiner_tree.nodes"
      ]
    },
    {
      "cell_type": "code",
      "execution_count": 20,
      "metadata": {},
      "outputs": [
        {
          "name": "stdout",
          "output_type": "stream",
          "text": [
            "Duration: 7856.022596359253 ms\n"
          ]
        }
      ],
      "source": [
        "print(f'Duration: {networkx_duration*1000} ms')"
      ]
    },
    {
      "cell_type": "code",
      "execution_count": null,
      "metadata": {},
      "outputs": [],
      "source": [
        "# try:\n",
        "#     draw_steiner_graph(\n",
        "#         stp_preprocessed.graph,\n",
        "#         steiner_graph=nx_steiner_tree,\n",
        "#         plot_title=f'NetworkX Implementation - Cost ({networkx_cost}) - Time ({networkx_duration * 1000} ms)',\n",
        "#         node_label='name',\n",
        "#         seed=SEED\n",
        "#     )\n",
        "# except Exception as e:\n",
        "#     print(e)\n"
      ]
    },
    {
      "cell_type": "markdown",
      "metadata": {},
      "source": [
        "## Solution obtained with Ant Colony Optimization"
      ]
    },
    {
      "cell_type": "code",
      "execution_count": 21,
      "metadata": {},
      "outputs": [],
      "source": [
        "from pcstp.solver.aco import AntColony"
      ]
    },
    {
      "cell_type": "code",
      "execution_count": 22,
      "metadata": {},
      "outputs": [],
      "source": [
        "solver = AntColony(\n",
        "    graph=stp_preprocessed.graph,\n",
        "    terminals=stp.terminals,\n",
        "    iterations=50,\n",
        "    num_ants=len(stp.terminals),\n",
        "    evaporation_rate=0.5,\n",
        "    alpha=1.0,\n",
        "    beta=3.0,\n",
        "    # beta_evaporation_rate=0.2,\n",
        "    initial_pheromone=0.1,\n",
        "    pheromone_amount=2.0,\n",
        "    pheromone_deposit_strategy='traditional',\n",
        "    pheromone_initialization_strategy='same_value',\n",
        "    choose_best=0.2,\n",
        "    log_level='info',\n",
        "    early_stopping=10,\n",
        "    normalize_distance_prize=False,\n",
        "    allow_edge_perturbation=False,\n",
        "    ant_max_moves=1000,\n",
        ")\n",
        "steiner_tree, steirner_cost = solver.solve()\n"
      ]
    },
    {
      "cell_type": "code",
      "execution_count": null,
      "metadata": {},
      "outputs": [],
      "source": [
        "print(f'Cost: {steirner_cost}')"
      ]
    },
    {
      "cell_type": "code",
      "execution_count": null,
      "metadata": {},
      "outputs": [],
      "source": [
        "print(f'Duration: {solver._duration * 1000} ms')"
      ]
    },
    {
      "cell_type": "code",
      "execution_count": null,
      "metadata": {},
      "outputs": [],
      "source": [
        "solver.best_route"
      ]
    },
    {
      "cell_type": "code",
      "execution_count": null,
      "metadata": {},
      "outputs": [],
      "source": [
        "import matplotlib.pyplot as plt"
      ]
    },
    {
      "cell_type": "code",
      "execution_count": null,
      "metadata": {},
      "outputs": [],
      "source": [
        "if len(solver.history) > 1:\n",
        "    fig, ax = plt.subplots(1, 1,figsize=(5,5))\n",
        "\n",
        "    ax.plot(solver.history)\n",
        "    ax.set_title(\"ACO Steiner Cost per Iterations\")\n",
        "    ax.set_xlabel(\"Iterations\")\n",
        "    ax.set_ylabel(\"Steiner Cost\")"
      ]
    },
    {
      "cell_type": "code",
      "execution_count": null,
      "metadata": {},
      "outputs": [],
      "source": [
        "try:\n",
        "    draw_steiner_graph(\n",
        "        stp_preprocessed.graph,\n",
        "        steiner_graph=steiner_tree,\n",
        "        plot_title=f'ACO Implementation - Cost ({networkx_cost}) - Time ({networkx_duration * 1000} ms)',\n",
        "        node_label='name'\n",
        "    )\n",
        "except:\n",
        "    pass\n",
        "\n",
        "print('Best Route to find all terminals:', solver.best_route)\n",
        "\n"
      ]
    }
  ],
  "metadata": {
    "colab": {
      "collapsed_sections": [],
      "name": "Prize-Collecting Steiner Tree Problem.ipynb",
      "provenance": []
    },
    "kernelspec": {
      "display_name": "Python 3",
      "name": "python3"
    },
    "language_info": {
      "codemirror_mode": {
        "name": "ipython",
        "version": 3
      },
      "file_extension": ".py",
      "mimetype": "text/x-python",
      "name": "python",
      "nbconvert_exporter": "python",
      "pygments_lexer": "ipython3",
      "version": "3.8.10"
    }
  },
  "nbformat": 4,
  "nbformat_minor": 0
}
