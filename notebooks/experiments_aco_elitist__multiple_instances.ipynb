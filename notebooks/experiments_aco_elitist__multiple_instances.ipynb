{
  "cells": [
    {
      "cell_type": "markdown",
      "metadata": {
        "id": "I1TYM0I17plX"
      },
      "source": [
        "# Prize-Collecting Steiner Tree (PCSTP)"
      ]
    },
    {
      "cell_type": "markdown",
      "metadata": {
        "id": "m5h7aHqj7uS9"
      },
      "source": [
        "## Libs Importing"
      ]
    },
    {
      "cell_type": "code",
      "execution_count": 1,
      "metadata": {
        "id": "xLJwhd8Ctj0U"
      },
      "outputs": [],
      "source": [
        "import sys\n",
        "import os\n",
        "import time\n",
        "import networkx as nx\n",
        "\n",
        "sys.path.insert(1, os.path.realpath(os.path.pardir))"
      ]
    },
    {
      "cell_type": "code",
      "execution_count": 2,
      "metadata": {},
      "outputs": [
        {
          "name": "stdout",
          "output_type": "stream",
          "text": [
            "Number of cpu :  12\n"
          ]
        }
      ],
      "source": [
        "import multiprocessing\n",
        "\n",
        "NUM_PROCESSES = multiprocessing.cpu_count()\n",
        "print(\"Number of cpu : \", NUM_PROCESSES)"
      ]
    },
    {
      "cell_type": "code",
      "execution_count": 3,
      "metadata": {},
      "outputs": [],
      "source": [
        "from pcstp.instances.generator import generate_random_steiner\n",
        "from pcstp.instances.reader import SteinlibReader, DatReader\n",
        "\n",
        "from pcstp.steinertree import SteinerTreeProblem\n",
        "from pcstp.solver.base import computes_steiner_cost\n",
        "from pcstp.solver.aco import AntColony\n",
        "from pcstp.solver.greedy_h1 import GreedyH1\n",
        "\n",
        "from pcstp.utils.graph import preprocessing\n",
        "from pcstp.utils.draw import draw_steiner_graph"
      ]
    },
    {
      "cell_type": "markdown",
      "metadata": {
        "id": "Q_po-aQf7_KF"
      },
      "source": [
        "## Experiments"
      ]
    },
    {
      "cell_type": "code",
      "execution_count": 4,
      "metadata": {},
      "outputs": [],
      "source": [
        "SEED = 100"
      ]
    },
    {
      "cell_type": "markdown",
      "metadata": {},
      "source": [
        "## Solution obtained with Ant Colony Optimization"
      ]
    },
    {
      "cell_type": "code",
      "execution_count": 5,
      "metadata": {},
      "outputs": [
        {
          "name": "stdout",
          "output_type": "stream",
          "text": [
            "Reading: ../data/instances/benchmark/PCSPG-CRR/C01-A.stp\n"
          ]
        },
        {
          "name": "stderr",
          "output_type": "stream",
          "text": [
            "2022-02-02 13:31:58,259 - [aco.py:295] - MainThread - INFO - Early Stopping: 14\n",
            "2022-02-02 13:31:58,261 - [aco.py:302] - MainThread - INFO - Best Iteration: 7 - Best Cost: 92.0\n",
            "2022-02-02 13:32:00,056 - [aco.py:295] - MainThread - INFO - Early Stopping: 13\n",
            "2022-02-02 13:32:00,059 - [aco.py:302] - MainThread - INFO - Best Iteration: 4 - Best Cost: 84.0\n",
            "2022-02-02 13:32:00,484 - [aco.py:295] - MainThread - INFO - Early Stopping: 15\n",
            "2022-02-02 13:32:00,486 - [aco.py:302] - MainThread - INFO - Best Iteration: 9 - Best Cost: 91.0\n",
            "2022-02-02 13:32:01,178 - [aco.py:295] - MainThread - INFO - Early Stopping: 14\n",
            "2022-02-02 13:32:01,180 - [aco.py:302] - MainThread - INFO - Best Iteration: 10 - Best Cost: 78.0\n",
            "2022-02-02 13:32:02,977 - [aco.py:295] - MainThread - INFO - Early Stopping: 14\n",
            "2022-02-02 13:32:02,980 - [aco.py:302] - MainThread - INFO - Best Iteration: 13 - Best Cost: 77.0\n"
          ]
        },
        {
          "name": "stdout",
          "output_type": "stream",
          "text": [
            "Reading: ../data/instances/benchmark/PCSPG-CRR/C05-A.stp\n"
          ]
        }
      ],
      "source": [
        "import glob\n",
        "\n",
        "INSTANCES_PATH_PREFIX = '../data/instances/benchmark/PCSPG-CRR'\n",
        "NUM_EXPERIMENTS_PER_INSTANCE = 5\n",
        "\n",
        "all_files = glob.glob(os.path.join(INSTANCES_PATH_PREFIX, '*'))\n",
        "\n",
        "files = all_files\n",
        "\n",
        "aco_history = []\n",
        "solutions = {}\n",
        "for filename in files:\n",
        "    if filename.endswith('.xlsx'): continue\n",
        "    if filename.endswith('.stp'):\n",
        "        stp_reader = SteinlibReader()\n",
        "    else:\n",
        "        stp_reader = DatReader()\n",
        "\n",
        "    print(f\"Reading: {filename}\")\n",
        "    stp = stp_reader.parser(filename=filename)\n",
        "    G, terminals = preprocessing(stp.graph, stp.terminals)\n",
        "    stp_preprocessed = SteinerTreeProblem(graph=G, terminals=terminals)\n",
        "\n",
        "    def run_experiment(experiment: int):\n",
        "        aco_params = dict(\n",
        "            iterations=50,\n",
        "            num_ants=len(terminals),\n",
        "            evaporation_rate=0.5,\n",
        "            alpha=1.0,\n",
        "            beta=3.0,\n",
        "            # beta_evaporation_rate=0.2,\n",
        "            initial_pheromone=0.1,\n",
        "            pheromone_amount=2.0,\n",
        "            pheromone_deposit_strategy='best_route',\n",
        "            pheromone_initialization_strategy='same_value',\n",
        "            choose_best=0.2,\n",
        "            log_level='info',\n",
        "            early_stopping=10,\n",
        "            normalize_distance_prize=False,\n",
        "            allow_edge_perturbation=False,\n",
        "            ant_max_moves=1000,\n",
        "            seed=SEED * experiment\n",
        "        )\n",
        "        solver = AntColony(\n",
        "            graph=stp_preprocessed.graph,\n",
        "            terminals=stp_preprocessed.terminals,\n",
        "            **aco_params\n",
        "        )\n",
        "        steiner_tree, steiner_cost = solver.solve()\n",
        "\n",
        "        history = {\n",
        "            \"filename\": filename,\n",
        "            \"experiment\": experiment,\n",
        "            \"num_nodes\": stp.num_nodes,\n",
        "            \"num_edges\": stp.num_edges,\n",
        "            \"num_nodes_after_preprocessing\": len(stp_preprocessed.graph.nodes),\n",
        "            \"num_edges_after_preprocessing\": len(stp_preprocessed.graph.edges),\n",
        "            \"terminals\": stp.num_terminals,\n",
        "            \"steiner_cost\": steiner_cost,\n",
        "            \"duration\": solver._duration\n",
        "        }\n",
        "        history.update(aco_params)\n",
        "        return history, solver\n",
        "\n",
        "    experiments = range(1, NUM_EXPERIMENTS_PER_INSTANCE+1)\n",
        "\n",
        "    with multiprocessing.Pool(processes=NUM_PROCESSES) as p:\n",
        "        experiments_results = p.map(run_experiment, experiments)\n",
        "    \n",
        "    aco_history.extend([result[0] for result in experiments_results])\n",
        "    solutions[filename] = [result[1] for result in experiments_results]"
      ]
    },
    {
      "cell_type": "code",
      "execution_count": null,
      "metadata": {},
      "outputs": [],
      "source": [
        "experiment = 4\n",
        "G = solutions['../data/instances/benchmark/PCSPG-CRR/C03-A.stp'][experiment].graph\n",
        "steiner_tree = solutions['../data/instances/benchmark/PCSPG-CRR/C03-A.stp'][experiment].steiner_tree"
      ]
    },
    {
      "cell_type": "code",
      "execution_count": null,
      "metadata": {},
      "outputs": [
        {
          "data": {
            "text/plain": [
              "439.0"
            ]
          },
          "execution_count": 30,
          "metadata": {},
          "output_type": "execute_result"
        }
      ],
      "source": [
        "sum(list(nx.get_node_attributes(G, 'prize').values()))"
      ]
    },
    {
      "cell_type": "code",
      "execution_count": null,
      "metadata": {},
      "outputs": [
        {
          "data": {
            "text/plain": [
              "NodeView((76, 232, 78))"
            ]
          },
          "execution_count": 31,
          "metadata": {},
          "output_type": "execute_result"
        }
      ],
      "source": [
        "steiner_tree.nodes"
      ]
    },
    {
      "cell_type": "code",
      "execution_count": null,
      "metadata": {},
      "outputs": [
        {
          "data": {
            "text/plain": [
              "{'prize': 6.0, 'terminal': 6.0}"
            ]
          },
          "execution_count": 32,
          "metadata": {},
          "output_type": "execute_result"
        }
      ],
      "source": [
        "G.nodes[78]"
      ]
    },
    {
      "cell_type": "code",
      "execution_count": null,
      "metadata": {},
      "outputs": [],
      "source": [
        "import pandas as pd\n",
        "\n",
        "df_score_aco = pd.DataFrame.from_dict(aco_history)\n",
        "df_score_aco.to_csv(os.path.join(INSTANCES_PATH_PREFIX, 'ACO.csv'))"
      ]
    },
    {
      "cell_type": "code",
      "execution_count": null,
      "metadata": {},
      "outputs": [
        {
          "data": {
            "text/html": [
              "<div>\n",
              "<style scoped>\n",
              "    .dataframe tbody tr th:only-of-type {\n",
              "        vertical-align: middle;\n",
              "    }\n",
              "\n",
              "    .dataframe tbody tr th {\n",
              "        vertical-align: top;\n",
              "    }\n",
              "\n",
              "    .dataframe thead th {\n",
              "        text-align: right;\n",
              "    }\n",
              "</style>\n",
              "<table border=\"1\" class=\"dataframe\">\n",
              "  <thead>\n",
              "    <tr style=\"text-align: right;\">\n",
              "      <th></th>\n",
              "      <th>filename</th>\n",
              "      <th>experiment</th>\n",
              "      <th>num_nodes</th>\n",
              "      <th>num_edges</th>\n",
              "      <th>num_nodes_after_preprocessing</th>\n",
              "      <th>num_edges_after_preprocessing</th>\n",
              "      <th>terminals</th>\n",
              "      <th>steiner_cost</th>\n",
              "      <th>duration</th>\n",
              "    </tr>\n",
              "  </thead>\n",
              "  <tbody>\n",
              "    <tr>\n",
              "      <th>0</th>\n",
              "      <td>../data/instances/benchmark/PCSPG-CRR/C01-A.stp</td>\n",
              "      <td>1</td>\n",
              "      <td>500</td>\n",
              "      <td>625</td>\n",
              "      <td>311</td>\n",
              "      <td>436</td>\n",
              "      <td>5</td>\n",
              "      <td>88.0</td>\n",
              "      <td>0.663081</td>\n",
              "    </tr>\n",
              "    <tr>\n",
              "      <th>1</th>\n",
              "      <td>../data/instances/benchmark/PCSPG-CRR/C01-A.stp</td>\n",
              "      <td>2</td>\n",
              "      <td>500</td>\n",
              "      <td>625</td>\n",
              "      <td>311</td>\n",
              "      <td>436</td>\n",
              "      <td>5</td>\n",
              "      <td>88.0</td>\n",
              "      <td>0.600559</td>\n",
              "    </tr>\n",
              "    <tr>\n",
              "      <th>2</th>\n",
              "      <td>../data/instances/benchmark/PCSPG-CRR/C01-A.stp</td>\n",
              "      <td>3</td>\n",
              "      <td>500</td>\n",
              "      <td>625</td>\n",
              "      <td>311</td>\n",
              "      <td>436</td>\n",
              "      <td>5</td>\n",
              "      <td>88.0</td>\n",
              "      <td>0.644161</td>\n",
              "    </tr>\n",
              "    <tr>\n",
              "      <th>3</th>\n",
              "      <td>../data/instances/benchmark/PCSPG-CRR/C01-A.stp</td>\n",
              "      <td>4</td>\n",
              "      <td>500</td>\n",
              "      <td>625</td>\n",
              "      <td>311</td>\n",
              "      <td>436</td>\n",
              "      <td>5</td>\n",
              "      <td>88.0</td>\n",
              "      <td>0.678591</td>\n",
              "    </tr>\n",
              "    <tr>\n",
              "      <th>4</th>\n",
              "      <td>../data/instances/benchmark/PCSPG-CRR/C01-A.stp</td>\n",
              "      <td>5</td>\n",
              "      <td>500</td>\n",
              "      <td>625</td>\n",
              "      <td>311</td>\n",
              "      <td>436</td>\n",
              "      <td>5</td>\n",
              "      <td>88.0</td>\n",
              "      <td>0.678483</td>\n",
              "    </tr>\n",
              "    <tr>\n",
              "      <th>5</th>\n",
              "      <td>../data/instances/benchmark/PCSPG-CRR/C01-A.stp</td>\n",
              "      <td>6</td>\n",
              "      <td>500</td>\n",
              "      <td>625</td>\n",
              "      <td>311</td>\n",
              "      <td>436</td>\n",
              "      <td>5</td>\n",
              "      <td>88.0</td>\n",
              "      <td>0.688529</td>\n",
              "    </tr>\n",
              "    <tr>\n",
              "      <th>6</th>\n",
              "      <td>../data/instances/benchmark/PCSPG-CRR/C01-A.stp</td>\n",
              "      <td>7</td>\n",
              "      <td>500</td>\n",
              "      <td>625</td>\n",
              "      <td>311</td>\n",
              "      <td>436</td>\n",
              "      <td>5</td>\n",
              "      <td>88.0</td>\n",
              "      <td>0.672962</td>\n",
              "    </tr>\n",
              "    <tr>\n",
              "      <th>7</th>\n",
              "      <td>../data/instances/benchmark/PCSPG-CRR/C01-A.stp</td>\n",
              "      <td>8</td>\n",
              "      <td>500</td>\n",
              "      <td>625</td>\n",
              "      <td>311</td>\n",
              "      <td>436</td>\n",
              "      <td>5</td>\n",
              "      <td>88.0</td>\n",
              "      <td>0.671533</td>\n",
              "    </tr>\n",
              "    <tr>\n",
              "      <th>8</th>\n",
              "      <td>../data/instances/benchmark/PCSPG-CRR/C01-A.stp</td>\n",
              "      <td>9</td>\n",
              "      <td>500</td>\n",
              "      <td>625</td>\n",
              "      <td>311</td>\n",
              "      <td>436</td>\n",
              "      <td>5</td>\n",
              "      <td>88.0</td>\n",
              "      <td>0.662299</td>\n",
              "    </tr>\n",
              "    <tr>\n",
              "      <th>9</th>\n",
              "      <td>../data/instances/benchmark/PCSPG-CRR/C01-A.stp</td>\n",
              "      <td>10</td>\n",
              "      <td>500</td>\n",
              "      <td>625</td>\n",
              "      <td>311</td>\n",
              "      <td>436</td>\n",
              "      <td>5</td>\n",
              "      <td>88.0</td>\n",
              "      <td>0.676295</td>\n",
              "    </tr>\n",
              "    <tr>\n",
              "      <th>10</th>\n",
              "      <td>../data/instances/benchmark/PCSPG-CRR/C05-A.stp</td>\n",
              "      <td>1</td>\n",
              "      <td>500</td>\n",
              "      <td>625</td>\n",
              "      <td>412</td>\n",
              "      <td>537</td>\n",
              "      <td>250</td>\n",
              "      <td>1604.0</td>\n",
              "      <td>1.600109</td>\n",
              "    </tr>\n",
              "    <tr>\n",
              "      <th>11</th>\n",
              "      <td>../data/instances/benchmark/PCSPG-CRR/C05-A.stp</td>\n",
              "      <td>2</td>\n",
              "      <td>500</td>\n",
              "      <td>625</td>\n",
              "      <td>412</td>\n",
              "      <td>537</td>\n",
              "      <td>250</td>\n",
              "      <td>1604.0</td>\n",
              "      <td>1.599881</td>\n",
              "    </tr>\n",
              "    <tr>\n",
              "      <th>12</th>\n",
              "      <td>../data/instances/benchmark/PCSPG-CRR/C05-A.stp</td>\n",
              "      <td>3</td>\n",
              "      <td>500</td>\n",
              "      <td>625</td>\n",
              "      <td>412</td>\n",
              "      <td>537</td>\n",
              "      <td>250</td>\n",
              "      <td>1604.0</td>\n",
              "      <td>1.536723</td>\n",
              "    </tr>\n",
              "    <tr>\n",
              "      <th>13</th>\n",
              "      <td>../data/instances/benchmark/PCSPG-CRR/C05-A.stp</td>\n",
              "      <td>4</td>\n",
              "      <td>500</td>\n",
              "      <td>625</td>\n",
              "      <td>412</td>\n",
              "      <td>537</td>\n",
              "      <td>250</td>\n",
              "      <td>1604.0</td>\n",
              "      <td>1.592017</td>\n",
              "    </tr>\n",
              "    <tr>\n",
              "      <th>14</th>\n",
              "      <td>../data/instances/benchmark/PCSPG-CRR/C05-A.stp</td>\n",
              "      <td>5</td>\n",
              "      <td>500</td>\n",
              "      <td>625</td>\n",
              "      <td>412</td>\n",
              "      <td>537</td>\n",
              "      <td>250</td>\n",
              "      <td>1604.0</td>\n",
              "      <td>1.578948</td>\n",
              "    </tr>\n",
              "    <tr>\n",
              "      <th>15</th>\n",
              "      <td>../data/instances/benchmark/PCSPG-CRR/C05-A.stp</td>\n",
              "      <td>6</td>\n",
              "      <td>500</td>\n",
              "      <td>625</td>\n",
              "      <td>412</td>\n",
              "      <td>537</td>\n",
              "      <td>250</td>\n",
              "      <td>1604.0</td>\n",
              "      <td>1.572128</td>\n",
              "    </tr>\n",
              "    <tr>\n",
              "      <th>16</th>\n",
              "      <td>../data/instances/benchmark/PCSPG-CRR/C05-A.stp</td>\n",
              "      <td>7</td>\n",
              "      <td>500</td>\n",
              "      <td>625</td>\n",
              "      <td>412</td>\n",
              "      <td>537</td>\n",
              "      <td>250</td>\n",
              "      <td>1604.0</td>\n",
              "      <td>1.599922</td>\n",
              "    </tr>\n",
              "    <tr>\n",
              "      <th>17</th>\n",
              "      <td>../data/instances/benchmark/PCSPG-CRR/C05-A.stp</td>\n",
              "      <td>8</td>\n",
              "      <td>500</td>\n",
              "      <td>625</td>\n",
              "      <td>412</td>\n",
              "      <td>537</td>\n",
              "      <td>250</td>\n",
              "      <td>1604.0</td>\n",
              "      <td>1.582632</td>\n",
              "    </tr>\n",
              "    <tr>\n",
              "      <th>18</th>\n",
              "      <td>../data/instances/benchmark/PCSPG-CRR/C05-A.stp</td>\n",
              "      <td>9</td>\n",
              "      <td>500</td>\n",
              "      <td>625</td>\n",
              "      <td>412</td>\n",
              "      <td>537</td>\n",
              "      <td>250</td>\n",
              "      <td>1604.0</td>\n",
              "      <td>1.603164</td>\n",
              "    </tr>\n",
              "    <tr>\n",
              "      <th>19</th>\n",
              "      <td>../data/instances/benchmark/PCSPG-CRR/C05-A.stp</td>\n",
              "      <td>10</td>\n",
              "      <td>500</td>\n",
              "      <td>625</td>\n",
              "      <td>412</td>\n",
              "      <td>537</td>\n",
              "      <td>250</td>\n",
              "      <td>1604.0</td>\n",
              "      <td>1.591509</td>\n",
              "    </tr>\n",
              "  </tbody>\n",
              "</table>\n",
              "</div>"
            ],
            "text/plain": [
              "                                           filename  experiment  num_nodes  \\\n",
              "0   ../data/instances/benchmark/PCSPG-CRR/C01-A.stp           1        500   \n",
              "1   ../data/instances/benchmark/PCSPG-CRR/C01-A.stp           2        500   \n",
              "2   ../data/instances/benchmark/PCSPG-CRR/C01-A.stp           3        500   \n",
              "3   ../data/instances/benchmark/PCSPG-CRR/C01-A.stp           4        500   \n",
              "4   ../data/instances/benchmark/PCSPG-CRR/C01-A.stp           5        500   \n",
              "5   ../data/instances/benchmark/PCSPG-CRR/C01-A.stp           6        500   \n",
              "6   ../data/instances/benchmark/PCSPG-CRR/C01-A.stp           7        500   \n",
              "7   ../data/instances/benchmark/PCSPG-CRR/C01-A.stp           8        500   \n",
              "8   ../data/instances/benchmark/PCSPG-CRR/C01-A.stp           9        500   \n",
              "9   ../data/instances/benchmark/PCSPG-CRR/C01-A.stp          10        500   \n",
              "10  ../data/instances/benchmark/PCSPG-CRR/C05-A.stp           1        500   \n",
              "11  ../data/instances/benchmark/PCSPG-CRR/C05-A.stp           2        500   \n",
              "12  ../data/instances/benchmark/PCSPG-CRR/C05-A.stp           3        500   \n",
              "13  ../data/instances/benchmark/PCSPG-CRR/C05-A.stp           4        500   \n",
              "14  ../data/instances/benchmark/PCSPG-CRR/C05-A.stp           5        500   \n",
              "15  ../data/instances/benchmark/PCSPG-CRR/C05-A.stp           6        500   \n",
              "16  ../data/instances/benchmark/PCSPG-CRR/C05-A.stp           7        500   \n",
              "17  ../data/instances/benchmark/PCSPG-CRR/C05-A.stp           8        500   \n",
              "18  ../data/instances/benchmark/PCSPG-CRR/C05-A.stp           9        500   \n",
              "19  ../data/instances/benchmark/PCSPG-CRR/C05-A.stp          10        500   \n",
              "\n",
              "    num_edges  num_nodes_after_preprocessing  num_edges_after_preprocessing  \\\n",
              "0         625                            311                            436   \n",
              "1         625                            311                            436   \n",
              "2         625                            311                            436   \n",
              "3         625                            311                            436   \n",
              "4         625                            311                            436   \n",
              "5         625                            311                            436   \n",
              "6         625                            311                            436   \n",
              "7         625                            311                            436   \n",
              "8         625                            311                            436   \n",
              "9         625                            311                            436   \n",
              "10        625                            412                            537   \n",
              "11        625                            412                            537   \n",
              "12        625                            412                            537   \n",
              "13        625                            412                            537   \n",
              "14        625                            412                            537   \n",
              "15        625                            412                            537   \n",
              "16        625                            412                            537   \n",
              "17        625                            412                            537   \n",
              "18        625                            412                            537   \n",
              "19        625                            412                            537   \n",
              "\n",
              "    terminals  steiner_cost  duration  \n",
              "0           5          88.0  0.663081  \n",
              "1           5          88.0  0.600559  \n",
              "2           5          88.0  0.644161  \n",
              "3           5          88.0  0.678591  \n",
              "4           5          88.0  0.678483  \n",
              "5           5          88.0  0.688529  \n",
              "6           5          88.0  0.672962  \n",
              "7           5          88.0  0.671533  \n",
              "8           5          88.0  0.662299  \n",
              "9           5          88.0  0.676295  \n",
              "10        250        1604.0  1.600109  \n",
              "11        250        1604.0  1.599881  \n",
              "12        250        1604.0  1.536723  \n",
              "13        250        1604.0  1.592017  \n",
              "14        250        1604.0  1.578948  \n",
              "15        250        1604.0  1.572128  \n",
              "16        250        1604.0  1.599922  \n",
              "17        250        1604.0  1.582632  \n",
              "18        250        1604.0  1.603164  \n",
              "19        250        1604.0  1.591509  "
            ]
          },
          "execution_count": 9,
          "metadata": {},
          "output_type": "execute_result"
        }
      ],
      "source": [
        "df_score_aco"
      ]
    }
  ],
  "metadata": {
    "colab": {
      "collapsed_sections": [],
      "name": "Prize-Collecting Steiner Tree Problem.ipynb",
      "provenance": []
    },
    "kernelspec": {
      "display_name": "Python 3",
      "name": "python3"
    },
    "language_info": {
      "codemirror_mode": {
        "name": "ipython",
        "version": 3
      },
      "file_extension": ".py",
      "mimetype": "text/x-python",
      "name": "python",
      "nbconvert_exporter": "python",
      "pygments_lexer": "ipython3",
      "version": "3.8.10"
    }
  },
  "nbformat": 4,
  "nbformat_minor": 0
}
