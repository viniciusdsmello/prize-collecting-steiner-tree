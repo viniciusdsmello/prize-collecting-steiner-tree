{
  "cells": [
    {
      "cell_type": "markdown",
      "metadata": {
        "id": "I1TYM0I17plX"
      },
      "source": [
        "# Prize-Collecting Steiner Tree (PCSTP)"
      ]
    },
    {
      "cell_type": "markdown",
      "metadata": {
        "id": "m5h7aHqj7uS9"
      },
      "source": [
        "## Libs Importing"
      ]
    },
    {
      "cell_type": "code",
      "execution_count": 1,
      "metadata": {
        "id": "xLJwhd8Ctj0U"
      },
      "outputs": [],
      "source": [
        "import sys\n",
        "import os\n",
        "import time\n",
        "import networkx as nx\n",
        "\n",
        "sys.path.insert(1, os.path.realpath(os.path.pardir))"
      ]
    },
    {
      "cell_type": "code",
      "execution_count": 2,
      "metadata": {},
      "outputs": [
        {
          "name": "stdout",
          "output_type": "stream",
          "text": [
            "Number of cpu :  12\n"
          ]
        }
      ],
      "source": [
        "import multiprocessing\n",
        "\n",
        "NUM_PROCESSES = multiprocessing.cpu_count()\n",
        "print(\"Number of cpu : \", NUM_PROCESSES)"
      ]
    },
    {
      "cell_type": "code",
      "execution_count": 3,
      "metadata": {},
      "outputs": [],
      "source": [
        "from pcstp.instances.generator import generate_random_steiner\n",
        "from pcstp.instances.reader import SteinlibReader, DatReader\n",
        "\n",
        "from pcstp.steinertree import SteinerTreeProblem\n",
        "from pcstp.solver.base import computes_steiner_cost\n",
        "from pcstp.solver.aco import AntColony\n",
        "from pcstp.solver.greedy_h1 import GreedyH1\n",
        "\n",
        "from pcstp.utils.graph import preprocessing\n",
        "from pcstp.utils.draw import draw_steiner_graph"
      ]
    },
    {
      "cell_type": "markdown",
      "metadata": {
        "id": "Q_po-aQf7_KF"
      },
      "source": [
        "## Experiments"
      ]
    },
    {
      "cell_type": "code",
      "execution_count": 4,
      "metadata": {},
      "outputs": [],
      "source": [
        "SEED = 100"
      ]
    },
    {
      "cell_type": "markdown",
      "metadata": {},
      "source": [
        "## Solution obtained with Ant Colony Optimization"
      ]
    },
    {
      "cell_type": "code",
      "execution_count": 8,
      "metadata": {},
      "outputs": [
        {
          "name": "stdout",
          "output_type": "stream",
          "text": [
            "Reading: ../data/instances/benchmark/RPCST-cologne/cologne1/i102M2.stp\n"
          ]
        },
        {
          "name": "stderr",
          "output_type": "stream",
          "text": [
            "2022-02-06 10:09:40,420 - [aco.py:295] - MainThread - INFO - Early Stopping: 11\n",
            "2022-02-06 10:09:40,423 - [aco.py:302] - MainThread - INFO - Best Iteration: 0 - Best Cost: 361269.43657\n",
            "2022-02-06 10:09:50,735 - [aco.py:295] - MainThread - INFO - Early Stopping: 12\n",
            "2022-02-06 10:09:50,738 - [aco.py:302] - MainThread - INFO - Best Iteration: 1 - Best Cost: 370316.743089\n",
            "2022-02-06 10:10:01,099 - [aco.py:295] - MainThread - INFO - Early Stopping: 13\n",
            "2022-02-06 10:10:01,102 - [aco.py:302] - MainThread - INFO - Best Iteration: 6 - Best Cost: 380730.842958\n",
            "2022-02-06 10:10:13,666 - [aco.py:295] - MainThread - INFO - Early Stopping: 14\n",
            "2022-02-06 10:10:13,668 - [aco.py:302] - MainThread - INFO - Best Iteration: 8 - Best Cost: 385556.56758499995\n",
            "2022-02-06 10:10:21,096 - [aco.py:295] - MainThread - INFO - Early Stopping: 15\n",
            "2022-02-06 10:10:21,098 - [aco.py:302] - MainThread - INFO - Best Iteration: 8 - Best Cost: 376204.03593300004\n"
          ]
        },
        {
          "name": "stdout",
          "output_type": "stream",
          "text": [
            "Reading: ../data/instances/benchmark/RPCST-cologne/cologne1/i101M2.stp\n"
          ]
        },
        {
          "name": "stderr",
          "output_type": "stream",
          "text": [
            "2022-02-06 10:12:42,486 - [aco.py:295] - MainThread - INFO - Early Stopping: 12\n",
            "2022-02-06 10:12:42,490 - [aco.py:302] - MainThread - INFO - Best Iteration: 2 - Best Cost: 392468.52765000006\n",
            "2022-02-06 10:12:43,377 - [aco.py:295] - MainThread - INFO - Early Stopping: 12\n",
            "2022-02-06 10:12:43,381 - [aco.py:302] - MainThread - INFO - Best Iteration: 11 - Best Cost: 401038.662651\n",
            "2022-02-06 10:12:51,436 - [aco.py:295] - MainThread - INFO - Early Stopping: 13\n",
            "2022-02-06 10:12:51,439 - [aco.py:302] - MainThread - INFO - Best Iteration: 6 - Best Cost: 399101.98106500006\n",
            "2022-02-06 10:12:53,054 - [aco.py:295] - MainThread - INFO - Early Stopping: 13\n",
            "2022-02-06 10:12:53,058 - [aco.py:302] - MainThread - INFO - Best Iteration: 11 - Best Cost: 389151.339269\n",
            "2022-02-06 10:12:58,367 - [aco.py:295] - MainThread - INFO - Early Stopping: 14\n",
            "2022-02-06 10:12:58,370 - [aco.py:302] - MainThread - INFO - Best Iteration: 5 - Best Cost: 394891.22670600004\n"
          ]
        },
        {
          "name": "stdout",
          "output_type": "stream",
          "text": [
            "Reading: ../data/instances/benchmark/RPCST-cologne/cologne1/i103M2.stp\n"
          ]
        },
        {
          "name": "stderr",
          "output_type": "stream",
          "text": [
            "2022-02-06 10:16:44,728 - [aco.py:295] - MainThread - INFO - Early Stopping: 13\n",
            "2022-02-06 10:16:44,731 - [aco.py:302] - MainThread - INFO - Best Iteration: 3 - Best Cost: 549463.410431\n",
            "2022-02-06 10:16:59,036 - [aco.py:295] - MainThread - INFO - Early Stopping: 14\n",
            "2022-02-06 10:16:59,038 - [aco.py:302] - MainThread - INFO - Best Iteration: 3 - Best Cost: 526378.087238\n",
            "2022-02-06 10:16:59,968 - [aco.py:295] - MainThread - INFO - Early Stopping: 14\n",
            "2022-02-06 10:16:59,971 - [aco.py:302] - MainThread - INFO - Best Iteration: 12 - Best Cost: 512077.205737\n",
            "2022-02-06 10:17:00,476 - [aco.py:295] - MainThread - INFO - Early Stopping: 14\n",
            "2022-02-06 10:17:00,478 - [aco.py:302] - MainThread - INFO - Best Iteration: 12 - Best Cost: 517330.49211500003\n",
            "2022-02-06 10:17:12,280 - [aco.py:295] - MainThread - INFO - Early Stopping: 15\n",
            "2022-02-06 10:17:12,283 - [aco.py:302] - MainThread - INFO - Best Iteration: 8 - Best Cost: 532834.348844\n"
          ]
        },
        {
          "name": "stdout",
          "output_type": "stream",
          "text": [
            "Reading: ../data/instances/benchmark/RPCST-cologne/cologne1/i104M2.stp\n"
          ]
        },
        {
          "name": "stderr",
          "output_type": "stream",
          "text": [
            "2022-02-06 10:17:59,830 - [aco.py:295] - MainThread - INFO - Early Stopping: 11\n",
            "2022-02-06 10:17:59,833 - [aco.py:302] - MainThread - INFO - Best Iteration: 0 - Best Cost: 85617.062013\n",
            "2022-02-06 10:18:00,794 - [aco.py:295] - MainThread - INFO - Early Stopping: 11\n",
            "2022-02-06 10:18:00,798 - [aco.py:302] - MainThread - INFO - Best Iteration: 0 - Best Cost: 66724.167027\n",
            "2022-02-06 10:18:01,112 - [aco.py:295] - MainThread - INFO - Early Stopping: 11\n",
            "2022-02-06 10:18:01,115 - [aco.py:302] - MainThread - INFO - Best Iteration: 0 - Best Cost: 85617.062013\n",
            "2022-02-06 10:18:04,865 - [aco.py:295] - MainThread - INFO - Early Stopping: 12\n",
            "2022-02-06 10:18:04,867 - [aco.py:302] - MainThread - INFO - Best Iteration: 3 - Best Cost: 66724.167027\n",
            "2022-02-06 10:18:05,992 - [aco.py:295] - MainThread - INFO - Early Stopping: 12\n",
            "2022-02-06 10:18:05,994 - [aco.py:302] - MainThread - INFO - Best Iteration: 1 - Best Cost: 66724.167027\n"
          ]
        },
        {
          "name": "stdout",
          "output_type": "stream",
          "text": [
            "Reading: ../data/instances/benchmark/RPCST-cologne/cologne1/i105M2.stp\n"
          ]
        },
        {
          "name": "stderr",
          "output_type": "stream",
          "text": [
            "2022-02-06 10:18:57,624 - [aco.py:295] - MainThread - INFO - Early Stopping: 11\n",
            "2022-02-06 10:18:57,627 - [aco.py:302] - MainThread - INFO - Best Iteration: 0 - Best Cost: 66788.171472\n",
            "2022-02-06 10:19:01,904 - [aco.py:295] - MainThread - INFO - Early Stopping: 12\n",
            "2022-02-06 10:19:01,907 - [aco.py:302] - MainThread - INFO - Best Iteration: 3 - Best Cost: 66788.171472\n",
            "2022-02-06 10:19:02,194 - [aco.py:295] - MainThread - INFO - Early Stopping: 12\n",
            "2022-02-06 10:19:02,197 - [aco.py:302] - MainThread - INFO - Best Iteration: 3 - Best Cost: 66788.171472\n",
            "2022-02-06 10:19:03,007 - [aco.py:295] - MainThread - INFO - Early Stopping: 12\n",
            "2022-02-06 10:19:03,010 - [aco.py:302] - MainThread - INFO - Best Iteration: 1 - Best Cost: 66788.171472\n",
            "2022-02-06 10:19:03,992 - [aco.py:295] - MainThread - INFO - Early Stopping: 13\n",
            "2022-02-06 10:19:03,995 - [aco.py:302] - MainThread - INFO - Best Iteration: 5 - Best Cost: 66788.171472\n"
          ]
        }
      ],
      "source": [
        "import glob\n",
        "\n",
        "INSTANCES_PATH_PREFIX = '../data/instances/benchmark/RPCST-cologne/cologne1'\n",
        "NUM_EXPERIMENTS_PER_INSTANCE = 5\n",
        "\n",
        "all_files = glob.glob(os.path.join(INSTANCES_PATH_PREFIX, '*'))\n",
        "\n",
        "files = all_files\n",
        "\n",
        "aco_history = []\n",
        "solutions = {}\n",
        "for filename in files:\n",
        "    if filename.endswith('.xlsx') or filename.endswith('.csv'): continue\n",
        "    if filename.endswith('.stp'):\n",
        "        stp_reader = SteinlibReader()\n",
        "    else:\n",
        "        stp_reader = DatReader()\n",
        "\n",
        "    print(f\"Reading: {filename}\")\n",
        "    stp = stp_reader.parser(filename=filename)\n",
        "    G, terminals = preprocessing(stp.graph, stp.terminals)\n",
        "    stp_preprocessed = SteinerTreeProblem(graph=G, terminals=terminals)\n",
        "\n",
        "    def run_experiment(experiment: int):\n",
        "        aco_params = dict(\n",
        "            iterations=50,\n",
        "            num_ants=len(terminals),\n",
        "            evaporation_rate=0.5,\n",
        "            alpha=1.0,\n",
        "            beta=3.0,\n",
        "            # beta_evaporation_rate=0.2,\n",
        "            initial_pheromone=0.1,\n",
        "            pheromone_amount=2.0,\n",
        "            pheromone_deposit_strategy='traditional',\n",
        "            pheromone_initialization_strategy='same_value',\n",
        "            choose_best=0.2,\n",
        "            log_level='info',\n",
        "            early_stopping=10,\n",
        "            normalize_distance_prize=False,\n",
        "            allow_edge_perturbation=False,\n",
        "            ant_max_moves=1000,\n",
        "            seed=SEED * experiment\n",
        "        )\n",
        "        solver = AntColony(\n",
        "            graph=stp_preprocessed.graph,\n",
        "            terminals=stp_preprocessed.terminals,\n",
        "            **aco_params\n",
        "        )\n",
        "        steiner_tree, steiner_cost = solver.solve()\n",
        "\n",
        "        history = {\n",
        "            \"filename\": filename,\n",
        "            \"experiment\": experiment,\n",
        "            \"num_nodes\": stp.num_nodes,\n",
        "            \"num_edges\": stp.num_edges,\n",
        "            \"num_nodes_after_preprocessing\": len(stp_preprocessed.graph.nodes),\n",
        "            \"num_edges_after_preprocessing\": len(stp_preprocessed.graph.edges),\n",
        "            \"terminals\": stp.num_terminals,\n",
        "            \"steiner_cost\": steiner_cost,\n",
        "            \"duration\": solver._duration\n",
        "        }\n",
        "        history.update(aco_params)\n",
        "        return history, solver\n",
        "\n",
        "    experiments = range(1, NUM_EXPERIMENTS_PER_INSTANCE+1)\n",
        "\n",
        "    with multiprocessing.Pool(processes=NUM_PROCESSES) as p:\n",
        "        experiments_results = p.map(run_experiment, experiments)\n",
        "    \n",
        "    aco_history.extend([result[0] for result in experiments_results])\n",
        "    solutions[filename] = [result[1] for result in experiments_results]"
      ]
    },
    {
      "cell_type": "code",
      "execution_count": 23,
      "metadata": {},
      "outputs": [],
      "source": [
        "experiment = 0\n",
        "G = solutions['../data/instances/benchmark/RPCST-cologne/cologne1/i104M2.stp'][experiment].graph\n",
        "steiner_tree = solutions['../data/instances/benchmark/RPCST-cologne/cologne1/i104M2.stp'][experiment].steiner_tree"
      ]
    },
    {
      "cell_type": "code",
      "execution_count": null,
      "metadata": {},
      "outputs": [],
      "source": [
        "sum(list(nx.get_node_attributes(G, 'prize').values()))"
      ]
    },
    {
      "cell_type": "code",
      "execution_count": 21,
      "metadata": {},
      "outputs": [
        {
          "data": {
            "text/plain": [
              "NodeView((738,))"
            ]
          },
          "execution_count": 21,
          "metadata": {},
          "output_type": "execute_result"
        }
      ],
      "source": [
        "steiner_tree.nodes"
      ]
    },
    {
      "cell_type": "code",
      "execution_count": null,
      "metadata": {},
      "outputs": [],
      "source": [
        "G.nodes[78]"
      ]
    },
    {
      "cell_type": "code",
      "execution_count": null,
      "metadata": {},
      "outputs": [],
      "source": [
        "import pandas as pd\n",
        "\n",
        "df_score_aco = pd.DataFrame.from_dict(aco_history)\n",
        "df_score_aco.to_csv(os.path.join(INSTANCES_PATH_PREFIX, 'ACO.csv'))"
      ]
    },
    {
      "cell_type": "code",
      "execution_count": null,
      "metadata": {},
      "outputs": [],
      "source": [
        "df_score_aco"
      ]
    }
  ],
  "metadata": {
    "colab": {
      "collapsed_sections": [],
      "name": "Prize-Collecting Steiner Tree Problem.ipynb",
      "provenance": []
    },
    "kernelspec": {
      "display_name": "Python 3",
      "name": "python3"
    },
    "language_info": {
      "codemirror_mode": {
        "name": "ipython",
        "version": 3
      },
      "file_extension": ".py",
      "mimetype": "text/x-python",
      "name": "python",
      "nbconvert_exporter": "python",
      "pygments_lexer": "ipython3",
      "version": "3.8.10"
    }
  },
  "nbformat": 4,
  "nbformat_minor": 0
}
