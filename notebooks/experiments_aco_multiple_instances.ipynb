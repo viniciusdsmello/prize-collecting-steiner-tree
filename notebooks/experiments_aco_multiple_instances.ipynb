{
  "cells": [
    {
      "cell_type": "markdown",
      "metadata": {
        "id": "I1TYM0I17plX"
      },
      "source": [
        "# Prize-Collecting Steiner Tree (PCSTP)"
      ]
    },
    {
      "cell_type": "markdown",
      "metadata": {
        "id": "m5h7aHqj7uS9"
      },
      "source": [
        "## Libs Importing"
      ]
    },
    {
      "cell_type": "code",
      "execution_count": 1,
      "metadata": {
        "id": "xLJwhd8Ctj0U"
      },
      "outputs": [],
      "source": [
        "import sys\n",
        "import os\n",
        "import time\n",
        "import networkx as nx\n",
        "\n",
        "sys.path.insert(1, os.path.realpath(os.path.pardir))"
      ]
    },
    {
      "cell_type": "code",
      "execution_count": 2,
      "metadata": {},
      "outputs": [
        {
          "name": "stdout",
          "output_type": "stream",
          "text": [
            "Number of cpu :  12\n"
          ]
        }
      ],
      "source": [
        "import multiprocessing\n",
        "\n",
        "NUM_PROCESSES = multiprocessing.cpu_count()\n",
        "print(\"Number of cpu : \", NUM_PROCESSES)"
      ]
    },
    {
      "cell_type": "code",
      "execution_count": 3,
      "metadata": {},
      "outputs": [],
      "source": [
        "from pcstp.instances.generator import generate_random_steiner\n",
        "from pcstp.instances.reader import SteinlibReader, DatReader\n",
        "\n",
        "from pcstp.steinertree import SteinerTreeProblem\n",
        "from pcstp.solver.base import computes_steiner_cost\n",
        "from pcstp.solver.aco import AntColony\n",
        "from pcstp.solver.greedy_h1 import GreedyH1\n",
        "\n",
        "from pcstp.utils.graph import preprocessing\n",
        "from pcstp.utils.draw import draw_steiner_graph"
      ]
    },
    {
      "cell_type": "markdown",
      "metadata": {
        "id": "Q_po-aQf7_KF"
      },
      "source": [
        "## Experiments"
      ]
    },
    {
      "cell_type": "code",
      "execution_count": 4,
      "metadata": {},
      "outputs": [],
      "source": [
        "SEED = 100"
      ]
    },
    {
      "cell_type": "code",
      "execution_count": 5,
      "metadata": {},
      "outputs": [
        {
          "name": "stdout",
          "output_type": "stream",
          "text": [
            "Reading: ../data/instances/benchmark/PCSPG-CRR/C01-A.stp\n",
            "Reading: ../data/instances/benchmark/PCSPG-CRR/C05-A.stp\n",
            "Reading: ../data/instances/benchmark/PCSPG-CRR/C04-A.stp\n",
            "Reading: ../data/instances/benchmark/PCSPG-CRR/C02-A.stp\n",
            "Reading: ../data/instances/benchmark/PCSPG-CRR/C03-A.stp\n"
          ]
        }
      ],
      "source": [
        "import glob\n",
        "\n",
        "INSTANCES_PATH_PREFIX = '../data/instances/benchmark/PCSPG-CRR'\n",
        "NUM_EXPERIMENTS_PER_INSTANCE = 10\n",
        "\n",
        "all_files = glob.glob(os.path.join(INSTANCES_PATH_PREFIX, '*'))\n",
        "\n",
        "files = all_files\n",
        "\n",
        "networkx_history = []\n",
        "\n",
        "for filename in files:\n",
        "    if filename.endswith('.xlsx'): continue\n",
        "    if filename.endswith('.stp'):\n",
        "        stp_reader = SteinlibReader()\n",
        "    else:\n",
        "        stp_reader = DatReader()\n",
        "\n",
        "    print(f\"Reading: {filename}\")\n",
        "    stp = stp_reader.parser(filename=filename)\n",
        "    G, terminals = preprocessing(stp.graph, stp.terminals)\n",
        "    stp_preprocessed = SteinerTreeProblem(graph=G, terminals=terminals)\n",
        "    \n",
        "    def run_experiment(experiment: int):\n",
        "        start_time = time.time()\n",
        "        nx_steiner_tree = nx.algorithms.approximation.steiner_tree(\n",
        "            stp_preprocessed.graph,\n",
        "            stp_preprocessed.terminals,\n",
        "            weight='cost'\n",
        "        )\n",
        "\n",
        "        networkx_duration = time.time() - start_time\n",
        "        networkx_cost = computes_steiner_cost(stp.graph, nx_steiner_tree, stp.terminals)\n",
        "\n",
        "        history = {\n",
        "            \"filename\": filename,\n",
        "            \"experiment\": experiment,\n",
        "            \"num_nodes\": stp.num_nodes,\n",
        "            \"num_edges\": stp.num_edges,\n",
        "            \"num_nodes_after_preprocessing\": len(stp_preprocessed.graph.nodes),\n",
        "            \"num_edges_after_preprocessing\": len(stp_preprocessed.graph.edges),\n",
        "            \"terminals\": stp.num_terminals,\n",
        "            \"steiner_cost\": networkx_cost,\n",
        "            \"duration\": networkx_duration\n",
        "        }\n",
        "        return history\n",
        "\n",
        "    experiments = range(1, NUM_EXPERIMENTS_PER_INSTANCE+1)\n",
        "\n",
        "    with multiprocessing.Pool(processes=NUM_PROCESSES) as p:\n",
        "        experiments_results = p.map(run_experiment, experiments)\n",
        "    \n",
        "    networkx_history.extend(experiments_results)"
      ]
    },
    {
      "cell_type": "code",
      "execution_count": 6,
      "metadata": {},
      "outputs": [],
      "source": [
        "import pandas as pd\n",
        "\n",
        "df_score_networkx = pd.DataFrame.from_dict(networkx_history)"
      ]
    },
    {
      "cell_type": "code",
      "execution_count": 7,
      "metadata": {},
      "outputs": [
        {
          "data": {
            "text/html": [
              "<div>\n",
              "<style scoped>\n",
              "    .dataframe tbody tr th:only-of-type {\n",
              "        vertical-align: middle;\n",
              "    }\n",
              "\n",
              "    .dataframe tbody tr th {\n",
              "        vertical-align: top;\n",
              "    }\n",
              "\n",
              "    .dataframe thead tr th {\n",
              "        text-align: left;\n",
              "    }\n",
              "\n",
              "    .dataframe thead tr:last-of-type th {\n",
              "        text-align: right;\n",
              "    }\n",
              "</style>\n",
              "<table border=\"1\" class=\"dataframe\">\n",
              "  <thead>\n",
              "    <tr>\n",
              "      <th></th>\n",
              "      <th colspan=\"8\" halign=\"left\">duration</th>\n",
              "      <th colspan=\"8\" halign=\"left\">steiner_cost</th>\n",
              "    </tr>\n",
              "    <tr>\n",
              "      <th></th>\n",
              "      <th>count</th>\n",
              "      <th>mean</th>\n",
              "      <th>std</th>\n",
              "      <th>min</th>\n",
              "      <th>25%</th>\n",
              "      <th>50%</th>\n",
              "      <th>75%</th>\n",
              "      <th>max</th>\n",
              "      <th>count</th>\n",
              "      <th>mean</th>\n",
              "      <th>std</th>\n",
              "      <th>min</th>\n",
              "      <th>25%</th>\n",
              "      <th>50%</th>\n",
              "      <th>75%</th>\n",
              "      <th>max</th>\n",
              "    </tr>\n",
              "    <tr>\n",
              "      <th>filename</th>\n",
              "      <th></th>\n",
              "      <th></th>\n",
              "      <th></th>\n",
              "      <th></th>\n",
              "      <th></th>\n",
              "      <th></th>\n",
              "      <th></th>\n",
              "      <th></th>\n",
              "      <th></th>\n",
              "      <th></th>\n",
              "      <th></th>\n",
              "      <th></th>\n",
              "      <th></th>\n",
              "      <th></th>\n",
              "      <th></th>\n",
              "      <th></th>\n",
              "    </tr>\n",
              "  </thead>\n",
              "  <tbody>\n",
              "    <tr>\n",
              "      <th>../data/instances/benchmark/PCSPG-CRR/C01-A.stp</th>\n",
              "      <td>10.0</td>\n",
              "      <td>0.820369</td>\n",
              "      <td>0.018187</td>\n",
              "      <td>0.790827</td>\n",
              "      <td>0.811247</td>\n",
              "      <td>0.820128</td>\n",
              "      <td>0.834868</td>\n",
              "      <td>0.844906</td>\n",
              "      <td>10.0</td>\n",
              "      <td>88.0</td>\n",
              "      <td>0.0</td>\n",
              "      <td>88.0</td>\n",
              "      <td>88.0</td>\n",
              "      <td>88.0</td>\n",
              "      <td>88.0</td>\n",
              "      <td>88.0</td>\n",
              "    </tr>\n",
              "    <tr>\n",
              "      <th>../data/instances/benchmark/PCSPG-CRR/C02-A.stp</th>\n",
              "      <td>10.0</td>\n",
              "      <td>0.576933</td>\n",
              "      <td>0.020645</td>\n",
              "      <td>0.533860</td>\n",
              "      <td>0.569547</td>\n",
              "      <td>0.579054</td>\n",
              "      <td>0.594743</td>\n",
              "      <td>0.596087</td>\n",
              "      <td>10.0</td>\n",
              "      <td>144.0</td>\n",
              "      <td>0.0</td>\n",
              "      <td>144.0</td>\n",
              "      <td>144.0</td>\n",
              "      <td>144.0</td>\n",
              "      <td>144.0</td>\n",
              "      <td>144.0</td>\n",
              "    </tr>\n",
              "    <tr>\n",
              "      <th>../data/instances/benchmark/PCSPG-CRR/C03-A.stp</th>\n",
              "      <td>10.0</td>\n",
              "      <td>0.723959</td>\n",
              "      <td>0.021714</td>\n",
              "      <td>0.670352</td>\n",
              "      <td>0.718410</td>\n",
              "      <td>0.733882</td>\n",
              "      <td>0.737988</td>\n",
              "      <td>0.739814</td>\n",
              "      <td>10.0</td>\n",
              "      <td>779.0</td>\n",
              "      <td>0.0</td>\n",
              "      <td>779.0</td>\n",
              "      <td>779.0</td>\n",
              "      <td>779.0</td>\n",
              "      <td>779.0</td>\n",
              "      <td>779.0</td>\n",
              "    </tr>\n",
              "    <tr>\n",
              "      <th>../data/instances/benchmark/PCSPG-CRR/C04-A.stp</th>\n",
              "      <td>10.0</td>\n",
              "      <td>0.976669</td>\n",
              "      <td>0.015300</td>\n",
              "      <td>0.945936</td>\n",
              "      <td>0.969171</td>\n",
              "      <td>0.980186</td>\n",
              "      <td>0.986479</td>\n",
              "      <td>0.993411</td>\n",
              "      <td>10.0</td>\n",
              "      <td>1110.0</td>\n",
              "      <td>0.0</td>\n",
              "      <td>1110.0</td>\n",
              "      <td>1110.0</td>\n",
              "      <td>1110.0</td>\n",
              "      <td>1110.0</td>\n",
              "      <td>1110.0</td>\n",
              "    </tr>\n",
              "    <tr>\n",
              "      <th>../data/instances/benchmark/PCSPG-CRR/C05-A.stp</th>\n",
              "      <td>10.0</td>\n",
              "      <td>1.489880</td>\n",
              "      <td>0.021960</td>\n",
              "      <td>1.439659</td>\n",
              "      <td>1.485210</td>\n",
              "      <td>1.496182</td>\n",
              "      <td>1.506348</td>\n",
              "      <td>1.507065</td>\n",
              "      <td>10.0</td>\n",
              "      <td>1604.0</td>\n",
              "      <td>0.0</td>\n",
              "      <td>1604.0</td>\n",
              "      <td>1604.0</td>\n",
              "      <td>1604.0</td>\n",
              "      <td>1604.0</td>\n",
              "      <td>1604.0</td>\n",
              "    </tr>\n",
              "  </tbody>\n",
              "</table>\n",
              "</div>"
            ],
            "text/plain": [
              "                                                duration                      \\\n",
              "                                                   count      mean       std   \n",
              "filename                                                                       \n",
              "../data/instances/benchmark/PCSPG-CRR/C01-A.stp     10.0  0.820369  0.018187   \n",
              "../data/instances/benchmark/PCSPG-CRR/C02-A.stp     10.0  0.576933  0.020645   \n",
              "../data/instances/benchmark/PCSPG-CRR/C03-A.stp     10.0  0.723959  0.021714   \n",
              "../data/instances/benchmark/PCSPG-CRR/C04-A.stp     10.0  0.976669  0.015300   \n",
              "../data/instances/benchmark/PCSPG-CRR/C05-A.stp     10.0  1.489880  0.021960   \n",
              "\n",
              "                                                                               \\\n",
              "                                                      min       25%       50%   \n",
              "filename                                                                        \n",
              "../data/instances/benchmark/PCSPG-CRR/C01-A.stp  0.790827  0.811247  0.820128   \n",
              "../data/instances/benchmark/PCSPG-CRR/C02-A.stp  0.533860  0.569547  0.579054   \n",
              "../data/instances/benchmark/PCSPG-CRR/C03-A.stp  0.670352  0.718410  0.733882   \n",
              "../data/instances/benchmark/PCSPG-CRR/C04-A.stp  0.945936  0.969171  0.980186   \n",
              "../data/instances/benchmark/PCSPG-CRR/C05-A.stp  1.439659  1.485210  1.496182   \n",
              "\n",
              "                                                                     \\\n",
              "                                                      75%       max   \n",
              "filename                                                              \n",
              "../data/instances/benchmark/PCSPG-CRR/C01-A.stp  0.834868  0.844906   \n",
              "../data/instances/benchmark/PCSPG-CRR/C02-A.stp  0.594743  0.596087   \n",
              "../data/instances/benchmark/PCSPG-CRR/C03-A.stp  0.737988  0.739814   \n",
              "../data/instances/benchmark/PCSPG-CRR/C04-A.stp  0.986479  0.993411   \n",
              "../data/instances/benchmark/PCSPG-CRR/C05-A.stp  1.506348  1.507065   \n",
              "\n",
              "                                                steiner_cost               \\\n",
              "                                                       count    mean  std   \n",
              "filename                                                                    \n",
              "../data/instances/benchmark/PCSPG-CRR/C01-A.stp         10.0    88.0  0.0   \n",
              "../data/instances/benchmark/PCSPG-CRR/C02-A.stp         10.0   144.0  0.0   \n",
              "../data/instances/benchmark/PCSPG-CRR/C03-A.stp         10.0   779.0  0.0   \n",
              "../data/instances/benchmark/PCSPG-CRR/C04-A.stp         10.0  1110.0  0.0   \n",
              "../data/instances/benchmark/PCSPG-CRR/C05-A.stp         10.0  1604.0  0.0   \n",
              "\n",
              "                                                                         \\\n",
              "                                                    min     25%     50%   \n",
              "filename                                                                  \n",
              "../data/instances/benchmark/PCSPG-CRR/C01-A.stp    88.0    88.0    88.0   \n",
              "../data/instances/benchmark/PCSPG-CRR/C02-A.stp   144.0   144.0   144.0   \n",
              "../data/instances/benchmark/PCSPG-CRR/C03-A.stp   779.0   779.0   779.0   \n",
              "../data/instances/benchmark/PCSPG-CRR/C04-A.stp  1110.0  1110.0  1110.0   \n",
              "../data/instances/benchmark/PCSPG-CRR/C05-A.stp  1604.0  1604.0  1604.0   \n",
              "\n",
              "                                                                 \n",
              "                                                    75%     max  \n",
              "filename                                                         \n",
              "../data/instances/benchmark/PCSPG-CRR/C01-A.stp    88.0    88.0  \n",
              "../data/instances/benchmark/PCSPG-CRR/C02-A.stp   144.0   144.0  \n",
              "../data/instances/benchmark/PCSPG-CRR/C03-A.stp   779.0   779.0  \n",
              "../data/instances/benchmark/PCSPG-CRR/C04-A.stp  1110.0  1110.0  \n",
              "../data/instances/benchmark/PCSPG-CRR/C05-A.stp  1604.0  1604.0  "
            ]
          },
          "execution_count": 7,
          "metadata": {},
          "output_type": "execute_result"
        }
      ],
      "source": [
        "df_score_networkx.groupby('filename')[['duration', 'steiner_cost']].describe()"
      ]
    },
    {
      "cell_type": "markdown",
      "metadata": {},
      "source": [
        "\n",
        "# Greedy"
      ]
    },
    {
      "cell_type": "code",
      "execution_count": 8,
      "metadata": {},
      "outputs": [
        {
          "name": "stdout",
          "output_type": "stream",
          "text": [
            "Reading: ../data/instances/benchmark/PCSPG-CRR/C01-A.stp\n",
            "Nodes:  311\n",
            "Edges:  436\n",
            "Cost: 108.0 Cost: 108.0 Cost: 108.0 \n",
            "\n",
            "\n",
            "Cost: 108.0 Cost: 108.0 \n",
            "\n",
            "Reading: ../data/instances/benchmark/PCSPG-CRR/C05-A.stp\n",
            "Nodes:  412\n",
            "Edges:  537\n",
            "Cost: 2215.0 \n",
            "Cost: 2215.0 \n",
            "Cost: 2215.0 \n",
            "Cost: 2215.0 \n",
            "Cost: 2215.0 \n",
            "Reading: ../data/instances/benchmark/PCSPG-CRR/C04-A.stp\n",
            "Nodes:  372\n",
            "Edges:  497\n"
          ]
        },
        {
          "name": "stderr",
          "output_type": "stream",
          "text": [
            "Process ForkPoolWorker-91:\n",
            "Process ForkPoolWorker-95:\n",
            "Process ForkPoolWorker-85:\n",
            "Process ForkPoolWorker-94:\n",
            "Process ForkPoolWorker-88:\n",
            "Process ForkPoolWorker-87:\n",
            "Process ForkPoolWorker-93:\n",
            "Process ForkPoolWorker-92:\n",
            "Process ForkPoolWorker-90:\n",
            "Traceback (most recent call last):\n",
            "Process ForkPoolWorker-96:\n",
            "Traceback (most recent call last):\n",
            "Traceback (most recent call last):\n"
          ]
        },
        {
          "ename": "KeyboardInterrupt",
          "evalue": "",
          "output_type": "error",
          "traceback": [
            "\u001b[0;31m---------------------------------------------------------------------------\u001b[0m",
            "\u001b[0;31mKeyboardInterrupt\u001b[0m                         Traceback (most recent call last)",
            "\u001b[0;32m/tmp/ipykernel_7815/158393977.py\u001b[0m in \u001b[0;36m<module>\u001b[0;34m\u001b[0m\n\u001b[1;32m     50\u001b[0m \u001b[0;34m\u001b[0m\u001b[0m\n\u001b[1;32m     51\u001b[0m     \u001b[0;32mwith\u001b[0m \u001b[0mmultiprocessing\u001b[0m\u001b[0;34m.\u001b[0m\u001b[0mPool\u001b[0m\u001b[0;34m(\u001b[0m\u001b[0mprocesses\u001b[0m\u001b[0;34m=\u001b[0m\u001b[0mNUM_PROCESSES\u001b[0m\u001b[0;34m)\u001b[0m \u001b[0;32mas\u001b[0m \u001b[0mp\u001b[0m\u001b[0;34m:\u001b[0m\u001b[0;34m\u001b[0m\u001b[0;34m\u001b[0m\u001b[0m\n\u001b[0;32m---> 52\u001b[0;31m         \u001b[0mexperiments_results\u001b[0m \u001b[0;34m=\u001b[0m \u001b[0mp\u001b[0m\u001b[0;34m.\u001b[0m\u001b[0mmap\u001b[0m\u001b[0;34m(\u001b[0m\u001b[0mrun_experiment\u001b[0m\u001b[0;34m,\u001b[0m \u001b[0mexperiments\u001b[0m\u001b[0;34m)\u001b[0m\u001b[0;34m\u001b[0m\u001b[0;34m\u001b[0m\u001b[0m\n\u001b[0m\u001b[1;32m     53\u001b[0m \u001b[0;34m\u001b[0m\u001b[0m\n\u001b[1;32m     54\u001b[0m     \u001b[0mgreedy_history\u001b[0m\u001b[0;34m.\u001b[0m\u001b[0mextend\u001b[0m\u001b[0;34m(\u001b[0m\u001b[0mexperiments_results\u001b[0m\u001b[0;34m)\u001b[0m\u001b[0;34m\u001b[0m\u001b[0;34m\u001b[0m\u001b[0m\n",
            "\u001b[0;32m/usr/lib/python3.8/multiprocessing/pool.py\u001b[0m in \u001b[0;36mmap\u001b[0;34m(self, func, iterable, chunksize)\u001b[0m\n\u001b[1;32m    362\u001b[0m         \u001b[0;32min\u001b[0m \u001b[0ma\u001b[0m \u001b[0mlist\u001b[0m \u001b[0mthat\u001b[0m \u001b[0;32mis\u001b[0m \u001b[0mreturned\u001b[0m\u001b[0;34m.\u001b[0m\u001b[0;34m\u001b[0m\u001b[0;34m\u001b[0m\u001b[0m\n\u001b[1;32m    363\u001b[0m         '''\n\u001b[0;32m--> 364\u001b[0;31m         \u001b[0;32mreturn\u001b[0m \u001b[0mself\u001b[0m\u001b[0;34m.\u001b[0m\u001b[0m_map_async\u001b[0m\u001b[0;34m(\u001b[0m\u001b[0mfunc\u001b[0m\u001b[0;34m,\u001b[0m \u001b[0miterable\u001b[0m\u001b[0;34m,\u001b[0m \u001b[0mmapstar\u001b[0m\u001b[0;34m,\u001b[0m \u001b[0mchunksize\u001b[0m\u001b[0;34m)\u001b[0m\u001b[0;34m.\u001b[0m\u001b[0mget\u001b[0m\u001b[0;34m(\u001b[0m\u001b[0;34m)\u001b[0m\u001b[0;34m\u001b[0m\u001b[0;34m\u001b[0m\u001b[0m\n\u001b[0m\u001b[1;32m    365\u001b[0m \u001b[0;34m\u001b[0m\u001b[0m\n\u001b[1;32m    366\u001b[0m     \u001b[0;32mdef\u001b[0m \u001b[0mstarmap\u001b[0m\u001b[0;34m(\u001b[0m\u001b[0mself\u001b[0m\u001b[0;34m,\u001b[0m \u001b[0mfunc\u001b[0m\u001b[0;34m,\u001b[0m \u001b[0miterable\u001b[0m\u001b[0;34m,\u001b[0m \u001b[0mchunksize\u001b[0m\u001b[0;34m=\u001b[0m\u001b[0;32mNone\u001b[0m\u001b[0;34m)\u001b[0m\u001b[0;34m:\u001b[0m\u001b[0;34m\u001b[0m\u001b[0;34m\u001b[0m\u001b[0m\n",
            "\u001b[0;32m/usr/lib/python3.8/multiprocessing/pool.py\u001b[0m in \u001b[0;36mget\u001b[0;34m(self, timeout)\u001b[0m\n\u001b[1;32m    763\u001b[0m \u001b[0;34m\u001b[0m\u001b[0m\n\u001b[1;32m    764\u001b[0m     \u001b[0;32mdef\u001b[0m \u001b[0mget\u001b[0m\u001b[0;34m(\u001b[0m\u001b[0mself\u001b[0m\u001b[0;34m,\u001b[0m \u001b[0mtimeout\u001b[0m\u001b[0;34m=\u001b[0m\u001b[0;32mNone\u001b[0m\u001b[0;34m)\u001b[0m\u001b[0;34m:\u001b[0m\u001b[0;34m\u001b[0m\u001b[0;34m\u001b[0m\u001b[0m\n\u001b[0;32m--> 765\u001b[0;31m         \u001b[0mself\u001b[0m\u001b[0;34m.\u001b[0m\u001b[0mwait\u001b[0m\u001b[0;34m(\u001b[0m\u001b[0mtimeout\u001b[0m\u001b[0;34m)\u001b[0m\u001b[0;34m\u001b[0m\u001b[0;34m\u001b[0m\u001b[0m\n\u001b[0m\u001b[1;32m    766\u001b[0m         \u001b[0;32mif\u001b[0m \u001b[0;32mnot\u001b[0m \u001b[0mself\u001b[0m\u001b[0;34m.\u001b[0m\u001b[0mready\u001b[0m\u001b[0;34m(\u001b[0m\u001b[0;34m)\u001b[0m\u001b[0;34m:\u001b[0m\u001b[0;34m\u001b[0m\u001b[0;34m\u001b[0m\u001b[0m\n\u001b[1;32m    767\u001b[0m             \u001b[0;32mraise\u001b[0m \u001b[0mTimeoutError\u001b[0m\u001b[0;34m\u001b[0m\u001b[0;34m\u001b[0m\u001b[0m\n",
            "\u001b[0;32m/usr/lib/python3.8/multiprocessing/pool.py\u001b[0m in \u001b[0;36mwait\u001b[0;34m(self, timeout)\u001b[0m\n\u001b[1;32m    760\u001b[0m \u001b[0;34m\u001b[0m\u001b[0m\n\u001b[1;32m    761\u001b[0m     \u001b[0;32mdef\u001b[0m \u001b[0mwait\u001b[0m\u001b[0;34m(\u001b[0m\u001b[0mself\u001b[0m\u001b[0;34m,\u001b[0m \u001b[0mtimeout\u001b[0m\u001b[0;34m=\u001b[0m\u001b[0;32mNone\u001b[0m\u001b[0;34m)\u001b[0m\u001b[0;34m:\u001b[0m\u001b[0;34m\u001b[0m\u001b[0;34m\u001b[0m\u001b[0m\n\u001b[0;32m--> 762\u001b[0;31m         \u001b[0mself\u001b[0m\u001b[0;34m.\u001b[0m\u001b[0m_event\u001b[0m\u001b[0;34m.\u001b[0m\u001b[0mwait\u001b[0m\u001b[0;34m(\u001b[0m\u001b[0mtimeout\u001b[0m\u001b[0;34m)\u001b[0m\u001b[0;34m\u001b[0m\u001b[0;34m\u001b[0m\u001b[0m\n\u001b[0m\u001b[1;32m    763\u001b[0m \u001b[0;34m\u001b[0m\u001b[0m\n\u001b[1;32m    764\u001b[0m     \u001b[0;32mdef\u001b[0m \u001b[0mget\u001b[0m\u001b[0;34m(\u001b[0m\u001b[0mself\u001b[0m\u001b[0;34m,\u001b[0m \u001b[0mtimeout\u001b[0m\u001b[0;34m=\u001b[0m\u001b[0;32mNone\u001b[0m\u001b[0;34m)\u001b[0m\u001b[0;34m:\u001b[0m\u001b[0;34m\u001b[0m\u001b[0;34m\u001b[0m\u001b[0m\n",
            "\u001b[0;32m/usr/lib/python3.8/threading.py\u001b[0m in \u001b[0;36mwait\u001b[0;34m(self, timeout)\u001b[0m\n\u001b[1;32m    556\u001b[0m             \u001b[0msignaled\u001b[0m \u001b[0;34m=\u001b[0m \u001b[0mself\u001b[0m\u001b[0;34m.\u001b[0m\u001b[0m_flag\u001b[0m\u001b[0;34m\u001b[0m\u001b[0;34m\u001b[0m\u001b[0m\n\u001b[1;32m    557\u001b[0m             \u001b[0;32mif\u001b[0m \u001b[0;32mnot\u001b[0m \u001b[0msignaled\u001b[0m\u001b[0;34m:\u001b[0m\u001b[0;34m\u001b[0m\u001b[0;34m\u001b[0m\u001b[0m\n\u001b[0;32m--> 558\u001b[0;31m                 \u001b[0msignaled\u001b[0m \u001b[0;34m=\u001b[0m \u001b[0mself\u001b[0m\u001b[0;34m.\u001b[0m\u001b[0m_cond\u001b[0m\u001b[0;34m.\u001b[0m\u001b[0mwait\u001b[0m\u001b[0;34m(\u001b[0m\u001b[0mtimeout\u001b[0m\u001b[0;34m)\u001b[0m\u001b[0;34m\u001b[0m\u001b[0;34m\u001b[0m\u001b[0m\n\u001b[0m\u001b[1;32m    559\u001b[0m             \u001b[0;32mreturn\u001b[0m \u001b[0msignaled\u001b[0m\u001b[0;34m\u001b[0m\u001b[0;34m\u001b[0m\u001b[0m\n\u001b[1;32m    560\u001b[0m \u001b[0;34m\u001b[0m\u001b[0m\n",
            "\u001b[0;32m/usr/lib/python3.8/threading.py\u001b[0m in \u001b[0;36mwait\u001b[0;34m(self, timeout)\u001b[0m\n\u001b[1;32m    300\u001b[0m         \u001b[0;32mtry\u001b[0m\u001b[0;34m:\u001b[0m    \u001b[0;31m# restore state no matter what (e.g., KeyboardInterrupt)\u001b[0m\u001b[0;34m\u001b[0m\u001b[0;34m\u001b[0m\u001b[0m\n\u001b[1;32m    301\u001b[0m             \u001b[0;32mif\u001b[0m \u001b[0mtimeout\u001b[0m \u001b[0;32mis\u001b[0m \u001b[0;32mNone\u001b[0m\u001b[0;34m:\u001b[0m\u001b[0;34m\u001b[0m\u001b[0;34m\u001b[0m\u001b[0m\n\u001b[0;32m--> 302\u001b[0;31m                 \u001b[0mwaiter\u001b[0m\u001b[0;34m.\u001b[0m\u001b[0macquire\u001b[0m\u001b[0;34m(\u001b[0m\u001b[0;34m)\u001b[0m\u001b[0;34m\u001b[0m\u001b[0;34m\u001b[0m\u001b[0m\n\u001b[0m\u001b[1;32m    303\u001b[0m                 \u001b[0mgotit\u001b[0m \u001b[0;34m=\u001b[0m \u001b[0;32mTrue\u001b[0m\u001b[0;34m\u001b[0m\u001b[0;34m\u001b[0m\u001b[0m\n\u001b[1;32m    304\u001b[0m             \u001b[0;32melse\u001b[0m\u001b[0;34m:\u001b[0m\u001b[0;34m\u001b[0m\u001b[0;34m\u001b[0m\u001b[0m\n",
            "\u001b[0;31mKeyboardInterrupt\u001b[0m: "
          ]
        }
      ],
      "source": [
        "import glob\n",
        "import random\n",
        "import numpy as np\n",
        "\n",
        "INSTANCES_PATH_PREFIX = '../data/instances/benchmark/PCSPG-CRR'\n",
        "NUM_EXPERIMENTS_PER_INSTANCE = 5\n",
        "\n",
        "all_files = glob.glob(os.path.join(INSTANCES_PATH_PREFIX, '*'))\n",
        "\n",
        "files = all_files\n",
        "\n",
        "greedy_history = []\n",
        "\n",
        "for filename in files:\n",
        "    if filename.endswith('.xlsx'): continue\n",
        "    if filename.endswith('.stp'):\n",
        "        stp_reader = SteinlibReader()\n",
        "    else:\n",
        "        stp_reader = DatReader()\n",
        "\n",
        "    print(f\"Reading: {filename}\")\n",
        "    stp = stp_reader.parser(filename=filename)\n",
        "    G, terminals = preprocessing(stp.graph, stp.terminals)\n",
        "    stp_preprocessed = SteinerTreeProblem(graph=G, terminals=terminals)\n",
        "    print(\"Nodes: \", len(stp_preprocessed.graph.nodes))\n",
        "    print(\"Edges: \", len(stp_preprocessed.graph.edges))\n",
        "    # print(\"Terminals: \", stp_preprocessed.terminals)\n",
        "    def run_experiment(experiment: int):\n",
        "        if SEED:\n",
        "            np.random.seed(SEED*experiment)\n",
        "            random.seed(SEED*experiment)\n",
        "        solver = GreedyH1(stp_preprocessed.graph, list(stp_preprocessed.terminals), log_level='info')\n",
        "        steiner_tree, greedy_cost = solver.solve()\n",
        "        print(f'Cost: {greedy_cost} ')\n",
        "\n",
        "        history = {\n",
        "            \"filename\": filename,\n",
        "            \"experiment\": experiment,\n",
        "            \"num_nodes\": stp.num_nodes,\n",
        "            \"num_edges\": stp.num_edges,\n",
        "            \"num_nodes_after_preprocessing\": len(stp_preprocessed.graph.nodes),\n",
        "            \"num_edges_after_preprocessing\": len(stp_preprocessed.graph.edges),\n",
        "            \"terminals\": stp.num_terminals,\n",
        "            \"steiner_cost\": greedy_cost,\n",
        "            \"duration\": solver._duration\n",
        "        }\n",
        "        return history\n",
        "\n",
        "    experiments = range(1, NUM_EXPERIMENTS_PER_INSTANCE+1)\n",
        "\n",
        "    with multiprocessing.Pool(processes=NUM_PROCESSES) as p:\n",
        "        experiments_results = p.map(run_experiment, experiments)\n",
        "\n",
        "    greedy_history.extend(experiments_results)\n"
      ]
    },
    {
      "cell_type": "code",
      "execution_count": 9,
      "metadata": {},
      "outputs": [],
      "source": [
        "import pandas as pd\n",
        "\n",
        "df_score_greedy = pd.DataFrame.from_dict(greedy_history)"
      ]
    },
    {
      "cell_type": "markdown",
      "metadata": {},
      "source": [
        "## Solution obtained with Ant Colony Optimization"
      ]
    },
    {
      "cell_type": "code",
      "execution_count": 10,
      "metadata": {},
      "outputs": [
        {
          "name": "stdout",
          "output_type": "stream",
          "text": [
            "Reading: ../data/instances/benchmark/PCSPG-CRR/C01-A.stp\n"
          ]
        },
        {
          "name": "stderr",
          "output_type": "stream",
          "text": [
            "2022-02-02 09:56:07,626 - [aco.py:302] - MainThread - INFO - Best Iteration: 0 - Best Cost: 18\n",
            "2022-02-02 09:56:07,627 - [aco.py:302] - MainThread - INFO - Best Iteration: 0 - Best Cost: 18\n",
            "2022-02-02 09:56:07,628 - [aco.py:302] - MainThread - INFO - Best Iteration: 0 - Best Cost: 18\n",
            "2022-02-02 09:56:07,629 - [aco.py:302] - MainThread - INFO - Best Iteration: 0 - Best Cost: 18\n",
            "2022-02-02 09:56:07,629 - [aco.py:302] - MainThread - INFO - Best Iteration: 0 - Best Cost: 18\n"
          ]
        },
        {
          "name": "stdout",
          "output_type": "stream",
          "text": [
            "Reading: ../data/instances/benchmark/PCSPG-CRR/C05-A.stp\n"
          ]
        },
        {
          "name": "stderr",
          "output_type": "stream",
          "text": [
            "2022-02-02 09:56:08,604 - [aco.py:302] - MainThread - INFO - Best Iteration: 0 - Best Cost: 1239\n",
            "2022-02-02 09:56:08,727 - [aco.py:302] - MainThread - INFO - Best Iteration: 0 - Best Cost: 1239\n",
            "2022-02-02 09:56:08,679 - [aco.py:302] - MainThread - INFO - Best Iteration: 0 - Best Cost: 1239\n",
            "2022-02-02 09:56:08,693 - [aco.py:302] - MainThread - INFO - Best Iteration: 0 - Best Cost: 1239\n",
            "2022-02-02 09:56:08,821 - [aco.py:302] - MainThread - INFO - Best Iteration: 0 - Best Cost: 1239\n"
          ]
        },
        {
          "name": "stdout",
          "output_type": "stream",
          "text": [
            "Reading: ../data/instances/benchmark/PCSPG-CRR/C04-A.stp\n"
          ]
        },
        {
          "name": "stderr",
          "output_type": "stream",
          "text": [
            "2022-02-02 09:56:09,228 - [aco.py:302] - MainThread - INFO - Best Iteration: 0 - Best Cost: 639\n",
            "2022-02-02 09:56:09,265 - [aco.py:302] - MainThread - INFO - Best Iteration: 0 - Best Cost: 639\n",
            "2022-02-02 09:56:09,291 - [aco.py:302] - MainThread - INFO - Best Iteration: 0 - Best Cost: 639\n",
            "2022-02-02 09:56:09,294 - [aco.py:302] - MainThread - INFO - Best Iteration: 0 - Best Cost: 639\n",
            "2022-02-02 09:56:09,336 - [aco.py:302] - MainThread - INFO - Best Iteration: 0 - Best Cost: 639\n"
          ]
        },
        {
          "name": "stdout",
          "output_type": "stream",
          "text": [
            "Reading: ../data/instances/benchmark/PCSPG-CRR/C02-A.stp\n"
          ]
        },
        {
          "name": "stderr",
          "output_type": "stream",
          "text": [
            "2022-02-02 09:56:09,426 - [aco.py:302] - MainThread - INFO - Best Iteration: 0 - Best Cost: 50\n",
            "2022-02-02 09:56:09,427 - [aco.py:302] - MainThread - INFO - Best Iteration: 0 - Best Cost: 50\n",
            "2022-02-02 09:56:09,428 - [aco.py:302] - MainThread - INFO - Best Iteration: 0 - Best Cost: 50\n",
            "2022-02-02 09:56:09,430 - [aco.py:302] - MainThread - INFO - Best Iteration: 0 - Best Cost: 50\n",
            "2022-02-02 09:56:09,431 - [aco.py:302] - MainThread - INFO - Best Iteration: 0 - Best Cost: 50\n"
          ]
        },
        {
          "name": "stdout",
          "output_type": "stream",
          "text": [
            "Reading: ../data/instances/benchmark/PCSPG-CRR/PCSPG-CRR - NetworkX.xlsx\n"
          ]
        },
        {
          "ename": "UnicodeDecodeError",
          "evalue": "'utf-8' codec can't decode byte 0xde in position 16: invalid continuation byte",
          "output_type": "error",
          "traceback": [
            "\u001b[0;31m---------------------------------------------------------------------------\u001b[0m",
            "\u001b[0;31mUnicodeDecodeError\u001b[0m                        Traceback (most recent call last)",
            "\u001b[0;32m/tmp/ipykernel_7815/865194006.py\u001b[0m in \u001b[0;36m<module>\u001b[0;34m\u001b[0m\n\u001b[1;32m     17\u001b[0m \u001b[0;34m\u001b[0m\u001b[0m\n\u001b[1;32m     18\u001b[0m     \u001b[0mprint\u001b[0m\u001b[0;34m(\u001b[0m\u001b[0;34mf\"Reading: {filename}\"\u001b[0m\u001b[0;34m)\u001b[0m\u001b[0;34m\u001b[0m\u001b[0;34m\u001b[0m\u001b[0m\n\u001b[0;32m---> 19\u001b[0;31m     \u001b[0mstp\u001b[0m \u001b[0;34m=\u001b[0m \u001b[0mstp_reader\u001b[0m\u001b[0;34m.\u001b[0m\u001b[0mparser\u001b[0m\u001b[0;34m(\u001b[0m\u001b[0mfilename\u001b[0m\u001b[0;34m=\u001b[0m\u001b[0mfilename\u001b[0m\u001b[0;34m)\u001b[0m\u001b[0;34m\u001b[0m\u001b[0;34m\u001b[0m\u001b[0m\n\u001b[0m\u001b[1;32m     20\u001b[0m     \u001b[0mG\u001b[0m\u001b[0;34m,\u001b[0m \u001b[0mterminals\u001b[0m \u001b[0;34m=\u001b[0m \u001b[0mpreprocessing\u001b[0m\u001b[0;34m(\u001b[0m\u001b[0mstp\u001b[0m\u001b[0;34m.\u001b[0m\u001b[0mgraph\u001b[0m\u001b[0;34m,\u001b[0m \u001b[0mstp\u001b[0m\u001b[0;34m.\u001b[0m\u001b[0mterminals\u001b[0m\u001b[0;34m)\u001b[0m\u001b[0;34m\u001b[0m\u001b[0;34m\u001b[0m\u001b[0m\n\u001b[1;32m     21\u001b[0m     \u001b[0mstp_preprocessed\u001b[0m \u001b[0;34m=\u001b[0m \u001b[0mSteinerTreeProblem\u001b[0m\u001b[0;34m(\u001b[0m\u001b[0mgraph\u001b[0m\u001b[0;34m=\u001b[0m\u001b[0mG\u001b[0m\u001b[0;34m,\u001b[0m \u001b[0mterminals\u001b[0m\u001b[0;34m=\u001b[0m\u001b[0mterminals\u001b[0m\u001b[0;34m)\u001b[0m\u001b[0;34m\u001b[0m\u001b[0;34m\u001b[0m\u001b[0m\n",
            "\u001b[0;32m~/Workspace/Personal/Projects/prize-collecting-steiner-tree/pcstp/instances/reader.py\u001b[0m in \u001b[0;36mparser\u001b[0;34m(self, filename)\u001b[0m\n\u001b[1;32m    193\u001b[0m         \u001b[0;31m# Open .stp files\u001b[0m\u001b[0;34m\u001b[0m\u001b[0;34m\u001b[0m\u001b[0;34m\u001b[0m\u001b[0m\n\u001b[1;32m    194\u001b[0m         \u001b[0;32mwith\u001b[0m \u001b[0mopen\u001b[0m\u001b[0;34m(\u001b[0m\u001b[0mfilename\u001b[0m\u001b[0;34m,\u001b[0m \u001b[0;34m'r'\u001b[0m\u001b[0;34m)\u001b[0m \u001b[0;32mas\u001b[0m \u001b[0mfile\u001b[0m\u001b[0;34m:\u001b[0m\u001b[0;34m\u001b[0m\u001b[0;34m\u001b[0m\u001b[0m\n\u001b[0;32m--> 195\u001b[0;31m             \u001b[0;32mfor\u001b[0m \u001b[0mline\u001b[0m \u001b[0;32min\u001b[0m \u001b[0mfile\u001b[0m\u001b[0;34m:\u001b[0m\u001b[0;34m\u001b[0m\u001b[0;34m\u001b[0m\u001b[0m\n\u001b[0m\u001b[1;32m    196\u001b[0m                 \u001b[0;32mif\u001b[0m \u001b[0;34m'node'\u001b[0m \u001b[0;32min\u001b[0m \u001b[0mline\u001b[0m \u001b[0;32mor\u001b[0m \u001b[0;34m'#name'\u001b[0m \u001b[0;32min\u001b[0m \u001b[0mline\u001b[0m\u001b[0;34m:\u001b[0m\u001b[0;34m\u001b[0m\u001b[0;34m\u001b[0m\u001b[0m\n\u001b[1;32m    197\u001b[0m                     \u001b[0mself\u001b[0m\u001b[0;34m.\u001b[0m\u001b[0m_parser_section_nodes\u001b[0m\u001b[0;34m(\u001b[0m\u001b[0mfile\u001b[0m\u001b[0;34m)\u001b[0m\u001b[0;34m\u001b[0m\u001b[0;34m\u001b[0m\u001b[0m\n",
            "\u001b[0;32m/usr/lib/python3.8/codecs.py\u001b[0m in \u001b[0;36mdecode\u001b[0;34m(self, input, final)\u001b[0m\n\u001b[1;32m    320\u001b[0m         \u001b[0;31m# decode input (taking the buffer into account)\u001b[0m\u001b[0;34m\u001b[0m\u001b[0;34m\u001b[0m\u001b[0;34m\u001b[0m\u001b[0m\n\u001b[1;32m    321\u001b[0m         \u001b[0mdata\u001b[0m \u001b[0;34m=\u001b[0m \u001b[0mself\u001b[0m\u001b[0;34m.\u001b[0m\u001b[0mbuffer\u001b[0m \u001b[0;34m+\u001b[0m \u001b[0minput\u001b[0m\u001b[0;34m\u001b[0m\u001b[0;34m\u001b[0m\u001b[0m\n\u001b[0;32m--> 322\u001b[0;31m         \u001b[0;34m(\u001b[0m\u001b[0mresult\u001b[0m\u001b[0;34m,\u001b[0m \u001b[0mconsumed\u001b[0m\u001b[0;34m)\u001b[0m \u001b[0;34m=\u001b[0m \u001b[0mself\u001b[0m\u001b[0;34m.\u001b[0m\u001b[0m_buffer_decode\u001b[0m\u001b[0;34m(\u001b[0m\u001b[0mdata\u001b[0m\u001b[0;34m,\u001b[0m \u001b[0mself\u001b[0m\u001b[0;34m.\u001b[0m\u001b[0merrors\u001b[0m\u001b[0;34m,\u001b[0m \u001b[0mfinal\u001b[0m\u001b[0;34m)\u001b[0m\u001b[0;34m\u001b[0m\u001b[0;34m\u001b[0m\u001b[0m\n\u001b[0m\u001b[1;32m    323\u001b[0m         \u001b[0;31m# keep undecoded input until the next call\u001b[0m\u001b[0;34m\u001b[0m\u001b[0;34m\u001b[0m\u001b[0;34m\u001b[0m\u001b[0m\n\u001b[1;32m    324\u001b[0m         \u001b[0mself\u001b[0m\u001b[0;34m.\u001b[0m\u001b[0mbuffer\u001b[0m \u001b[0;34m=\u001b[0m \u001b[0mdata\u001b[0m\u001b[0;34m[\u001b[0m\u001b[0mconsumed\u001b[0m\u001b[0;34m:\u001b[0m\u001b[0;34m]\u001b[0m\u001b[0;34m\u001b[0m\u001b[0;34m\u001b[0m\u001b[0m\n",
            "\u001b[0;31mUnicodeDecodeError\u001b[0m: 'utf-8' codec can't decode byte 0xde in position 16: invalid continuation byte"
          ]
        }
      ],
      "source": [
        "import glob\n",
        "\n",
        "INSTANCES_PATH_PREFIX = '../data/instances/benchmark/PCSPG-CRR'\n",
        "NUM_EXPERIMENTS_PER_INSTANCE = 5\n",
        "\n",
        "all_files = glob.glob(os.path.join(INSTANCES_PATH_PREFIX, '*'))\n",
        "\n",
        "files = all_files\n",
        "\n",
        "aco_history = []\n",
        "\n",
        "for filename in files:\n",
        "    if filename.endswith('.xlsx'): continue\n",
        "    if filename.endswith('.stp'):\n",
        "        stp_reader = SteinlibReader()\n",
        "    else:\n",
        "        stp_reader = DatReader()\n",
        "\n",
        "    print(f\"Reading: {filename}\")\n",
        "    stp = stp_reader.parser(filename=filename)\n",
        "    G, terminals = preprocessing(stp.graph, stp.terminals)\n",
        "    stp_preprocessed = SteinerTreeProblem(graph=G, terminals=terminals)\n",
        "\n",
        "    def run_experiment(experiment: int):\n",
        "        aco_params = dict(\n",
        "            iterations=1,\n",
        "            num_ants=len(terminals),\n",
        "            evaporation_rate=0.5,\n",
        "            alpha=1.0,\n",
        "            beta=3.0,\n",
        "            # beta_evaporation_rate=0.2,\n",
        "            initial_pheromone=0.1,\n",
        "            pheromone_amount=2.0,\n",
        "            pheromone_deposit_strategy='traditional',\n",
        "            pheromone_initialization_strategy='same_value',\n",
        "            choose_best=0.2,\n",
        "            log_level='info',\n",
        "            early_stopping=30,\n",
        "            normalize_distance_prize=False,\n",
        "            allow_edge_perturbation=False,\n",
        "            ant_max_moves=1,\n",
        "            seed=SEED * experiment\n",
        "        )\n",
        "        solver = AntColony(\n",
        "            graph=stp_preprocessed.graph,\n",
        "            terminals=stp_preprocessed.terminals,\n",
        "            **aco_params\n",
        "        )\n",
        "        steiner_tree, steiner_cost = solver.solve()\n",
        "\n",
        "        history = {\n",
        "            \"filename\": filename,\n",
        "            \"experiment\": experiment,\n",
        "            \"num_nodes\": stp.num_nodes,\n",
        "            \"num_edges\": stp.num_edges,\n",
        "            \"num_nodes_after_preprocessing\": len(stp_preprocessed.graph.nodes),\n",
        "            \"num_edges_after_preprocessing\": len(stp_preprocessed.graph.edges),\n",
        "            \"terminals\": stp.num_terminals,\n",
        "            \"steiner_cost\": steiner_cost,\n",
        "            \"duration\": solver._duration\n",
        "        }\n",
        "        history.update(aco_params)\n",
        "        return history\n",
        "\n",
        "    experiments = range(1, NUM_EXPERIMENTS_PER_INSTANCE+1)\n",
        "\n",
        "    with multiprocessing.Pool(processes=NUM_PROCESSES) as p:\n",
        "        experiments_results = p.map(run_experiment, experiments)\n",
        "    \n",
        "    aco_history.extend(experiments_results)"
      ]
    },
    {
      "cell_type": "code",
      "execution_count": null,
      "metadata": {},
      "outputs": [],
      "source": [
        "import pandas as pd\n",
        "\n",
        "df_score_aco = pd.DataFrame.from_dict(networkx_history)\n",
        "# df_score_aco.to_csv(os.path.join(INSTANCES_PATH_PREFIX, 'ACO.csv'))"
      ]
    }
  ],
  "metadata": {
    "colab": {
      "collapsed_sections": [],
      "name": "Prize-Collecting Steiner Tree Problem.ipynb",
      "provenance": []
    },
    "kernelspec": {
      "display_name": "Python 3",
      "name": "python3"
    },
    "language_info": {
      "codemirror_mode": {
        "name": "ipython",
        "version": 3
      },
      "file_extension": ".py",
      "mimetype": "text/x-python",
      "name": "python",
      "nbconvert_exporter": "python",
      "pygments_lexer": "ipython3",
      "version": "3.8.10"
    }
  },
  "nbformat": 4,
  "nbformat_minor": 0
}
