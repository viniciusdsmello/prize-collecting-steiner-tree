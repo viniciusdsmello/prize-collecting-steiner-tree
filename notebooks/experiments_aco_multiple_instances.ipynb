{
  "cells": [
    {
      "cell_type": "markdown",
      "metadata": {
        "id": "I1TYM0I17plX"
      },
      "source": [
        "# Prize-Collecting Steiner Tree (PCSTP)"
      ]
    },
    {
      "cell_type": "markdown",
      "metadata": {
        "id": "m5h7aHqj7uS9"
      },
      "source": [
        "## Libs Importing"
      ]
    },
    {
      "cell_type": "code",
      "execution_count": 1,
      "metadata": {
        "id": "xLJwhd8Ctj0U"
      },
      "outputs": [],
      "source": [
        "import sys\n",
        "import os\n",
        "import time\n",
        "import networkx as nx\n",
        "\n",
        "sys.path.insert(1, os.path.realpath(os.path.pardir))"
      ]
    },
    {
      "cell_type": "code",
      "execution_count": 2,
      "metadata": {},
      "outputs": [
        {
          "name": "stdout",
          "output_type": "stream",
          "text": [
            "Number of cpu :  12\n"
          ]
        }
      ],
      "source": [
        "import multiprocessing\n",
        "\n",
        "NUM_PROCESSES = multiprocessing.cpu_count()\n",
        "print(\"Number of cpu : \", NUM_PROCESSES)"
      ]
    },
    {
      "cell_type": "code",
      "execution_count": 3,
      "metadata": {},
      "outputs": [],
      "source": [
        "from pcstp.instances.generator import generate_random_steiner\n",
        "from pcstp.instances.reader import SteinlibReader, DatReader\n",
        "\n",
        "from pcstp.steinertree import SteinerTreeProblem\n",
        "from pcstp.solver.base import computes_steiner_cost\n",
        "from pcstp.solver.aco import AntColony\n",
        "from pcstp.solver.greedy_h1 import GreedyH1\n",
        "\n",
        "from pcstp.utils.graph import preprocessing\n",
        "from pcstp.utils.draw import draw_steiner_graph"
      ]
    },
    {
      "cell_type": "markdown",
      "metadata": {
        "id": "Q_po-aQf7_KF"
      },
      "source": [
        "## Experiments"
      ]
    },
    {
      "cell_type": "code",
      "execution_count": null,
      "metadata": {},
      "outputs": [],
      "source": [
        "SEED = 100"
      ]
    },
    {
      "cell_type": "code",
      "execution_count": null,
      "metadata": {},
      "outputs": [],
      "source": [
        "import glob\n",
        "\n",
        "INSTANCES_PATH_PREFIX = '../data/instances/benchmark/PCSPG-CRR'\n",
        "NUM_EXPERIMENTS_PER_INSTANCE = 10\n",
        "\n",
        "all_files = glob.glob(os.path.join(INSTANCES_PATH_PREFIX, '*'))\n",
        "\n",
        "files = all_files\n",
        "\n",
        "networkx_history = []\n",
        "\n",
        "for filename in files:\n",
        "    if filename.endswith('.xlsx'): continue\n",
        "    if filename.endswith('.stp'):\n",
        "        stp_reader = SteinlibReader()\n",
        "    else:\n",
        "        stp_reader = DatReader()\n",
        "\n",
        "    print(f\"Reading: {filename}\")\n",
        "    stp = stp_reader.parser(filename=filename)\n",
        "    G, terminals = preprocessing(stp.graph, stp.terminals)\n",
        "    stp_preprocessed = SteinerTreeProblem(graph=G, terminals=terminals)\n",
        "    \n",
        "    def run_experiment(experiment: int):\n",
        "        start_time = time.time()\n",
        "        nx_steiner_tree = nx.algorithms.approximation.steiner_tree(\n",
        "            stp_preprocessed.graph,\n",
        "            stp_preprocessed.terminals,\n",
        "            weight='cost'\n",
        "        )\n",
        "\n",
        "        networkx_duration = time.time() - start_time\n",
        "        networkx_cost = computes_steiner_cost(stp.graph, nx_steiner_tree, stp.terminals)\n",
        "\n",
        "        history = {\n",
        "            \"filename\": filename,\n",
        "            \"experiment\": experiment,\n",
        "            \"num_nodes\": stp.num_nodes,\n",
        "            \"num_edges\": stp.num_edges,\n",
        "            \"num_nodes_after_preprocessing\": len(stp_preprocessed.graph.nodes),\n",
        "            \"num_edges_after_preprocessing\": len(stp_preprocessed.graph.edges),\n",
        "            \"terminals\": stp.num_terminals,\n",
        "            \"steiner_cost\": networkx_cost,\n",
        "            \"duration\": networkx_duration\n",
        "        }\n",
        "        return history\n",
        "\n",
        "    experiments = range(1, NUM_EXPERIMENTS_PER_INSTANCE+1)\n",
        "\n",
        "    with multiprocessing.Pool(processes=NUM_PROCESSES) as p:\n",
        "        experiments_results = p.map(run_experiment, experiments)\n",
        "    \n",
        "    networkx_history.extend(experiments_results)"
      ]
    },
    {
      "cell_type": "code",
      "execution_count": null,
      "metadata": {},
      "outputs": [],
      "source": [
        "import pandas as pd\n",
        "\n",
        "df_score_networkx = pd.DataFrame.from_dict(networkx_history)"
      ]
    },
    {
      "cell_type": "code",
      "execution_count": null,
      "metadata": {},
      "outputs": [],
      "source": [
        "df_score_networkx.groupby('filename')[['duration', 'steiner_cost']].describe()"
      ]
    },
    {
      "cell_type": "markdown",
      "metadata": {},
      "source": [
        "\n",
        "# Greedy"
      ]
    },
    {
      "cell_type": "code",
      "execution_count": null,
      "metadata": {},
      "outputs": [],
      "source": [
        "import glob\n",
        "import random\n",
        "import numpy as np\n",
        "\n",
        "INSTANCES_PATH_PREFIX = '../data/instances/benchmark/PCSPG-CRR'\n",
        "NUM_EXPERIMENTS_PER_INSTANCE = 5\n",
        "\n",
        "all_files = glob.glob(os.path.join(INSTANCES_PATH_PREFIX, '*'))\n",
        "\n",
        "files = all_files\n",
        "\n",
        "greedy_history = []\n",
        "\n",
        "for filename in files:\n",
        "    if filename.endswith('.xlsx'): continue\n",
        "    if filename.endswith('.stp'):\n",
        "        stp_reader = SteinlibReader()\n",
        "    else:\n",
        "        stp_reader = DatReader()\n",
        "\n",
        "    print(f\"Reading: {filename}\")\n",
        "    stp = stp_reader.parser(filename=filename)\n",
        "    G, terminals = preprocessing(stp.graph, stp.terminals)\n",
        "    stp_preprocessed = SteinerTreeProblem(graph=G, terminals=terminals)\n",
        "    print(\"Nodes: \", len(stp_preprocessed.graph.nodes))\n",
        "    print(\"Edges: \", len(stp_preprocessed.graph.edges))\n",
        "    # print(\"Terminals: \", stp_preprocessed.terminals)\n",
        "    def run_experiment(experiment: int):\n",
        "        if SEED:\n",
        "            np.random.seed(SEED*experiment)\n",
        "            random.seed(SEED*experiment)\n",
        "        solver = GreedyH1(stp_preprocessed.graph, list(stp_preprocessed.terminals), log_level='info')\n",
        "        steiner_tree, greedy_cost = solver.solve()\n",
        "        print(f'Cost: {greedy_cost} ')\n",
        "\n",
        "        history = {\n",
        "            \"filename\": filename,\n",
        "            \"experiment\": experiment,\n",
        "            \"num_nodes\": stp.num_nodes,\n",
        "            \"num_edges\": stp.num_edges,\n",
        "            \"num_nodes_after_preprocessing\": len(stp_preprocessed.graph.nodes),\n",
        "            \"num_edges_after_preprocessing\": len(stp_preprocessed.graph.edges),\n",
        "            \"terminals\": stp.num_terminals,\n",
        "            \"steiner_cost\": greedy_cost,\n",
        "            \"duration\": solver._duration\n",
        "        }\n",
        "        return history\n",
        "\n",
        "    experiments = range(1, NUM_EXPERIMENTS_PER_INSTANCE+1)\n",
        "\n",
        "    with multiprocessing.Pool(processes=NUM_PROCESSES) as p:\n",
        "        experiments_results = p.map(run_experiment, experiments)\n",
        "\n",
        "    greedy_history.extend(experiments_results)\n"
      ]
    },
    {
      "cell_type": "code",
      "execution_count": null,
      "metadata": {},
      "outputs": [],
      "source": [
        "import pandas as pd\n",
        "\n",
        "df_score_greedy = pd.DataFrame.from_dict(greedy_history)"
      ]
    },
    {
      "cell_type": "markdown",
      "metadata": {},
      "source": [
        "## Solution obtained with Ant Colony Optimization"
      ]
    },
    {
      "cell_type": "code",
      "execution_count": null,
      "metadata": {},
      "outputs": [],
      "source": [
        "import glob\n",
        "\n",
        "INSTANCES_PATH_PREFIX = '../data/instances/benchmark/PCSPG-CRR'\n",
        "NUM_EXPERIMENTS_PER_INSTANCE = 5\n",
        "\n",
        "all_files = glob.glob(os.path.join(INSTANCES_PATH_PREFIX, '*'))\n",
        "\n",
        "files = all_files\n",
        "\n",
        "aco_history = []\n",
        "\n",
        "for filename in files:\n",
        "    if filename.endswith('.stp'):\n",
        "        stp_reader = SteinlibReader()\n",
        "    else:\n",
        "        stp_reader = DatReader()\n",
        "\n",
        "    print(f\"Reading: {filename}\")\n",
        "    stp = stp_reader.parser(filename=filename)\n",
        "    G, terminals = preprocessing(stp.graph, stp.terminals)\n",
        "    stp_preprocessed = SteinerTreeProblem(graph=G, terminals=terminals)\n",
        "\n",
        "    def run_experiment(experiment: int):\n",
        "        aco_params = dict(\n",
        "            iterations=1,\n",
        "            num_ants=len(terminals),\n",
        "            evaporation_rate=0.5,\n",
        "            alpha=1.0,\n",
        "            beta=3.0,\n",
        "            # beta_evaporation_rate=0.2,\n",
        "            initial_pheromone=0.1,\n",
        "            pheromone_amount=2.0,\n",
        "            pheromone_deposit_strategy='traditional',\n",
        "            pheromone_initialization_strategy='same_value',\n",
        "            choose_best=0.2,\n",
        "            log_level='info',\n",
        "            early_stopping=30,\n",
        "            normalize_distance_prize=False,\n",
        "            allow_edge_perturbation=False,\n",
        "            ant_max_moves=1,\n",
        "            seed=SEED * experiment\n",
        "        )\n",
        "        solver = AntColony(\n",
        "            graph=stp_preprocessed.graph,\n",
        "            terminals=stp_preprocessed.terminals,\n",
        "            **aco_params\n",
        "        )\n",
        "        steiner_tree, steiner_cost = solver.solve()\n",
        "\n",
        "        history = {\n",
        "            \"filename\": filename,\n",
        "            \"experiment\": experiment,\n",
        "            \"num_nodes\": stp.num_nodes,\n",
        "            \"num_edges\": stp.num_edges,\n",
        "            \"num_nodes_after_preprocessing\": len(stp_preprocessed.graph.nodes),\n",
        "            \"num_edges_after_preprocessing\": len(stp_preprocessed.graph.edges),\n",
        "            \"terminals\": stp.num_terminals,\n",
        "            \"steiner_cost\": steiner_cost,\n",
        "            \"duration\": solver._duration\n",
        "        }\n",
        "        history.update(aco_params)\n",
        "        return history\n",
        "\n",
        "    experiments = range(1, NUM_EXPERIMENTS_PER_INSTANCE+1)\n",
        "\n",
        "    with multiprocessing.Pool(processes=NUM_PROCESSES) as p:\n",
        "        experiments_results = p.map(run_experiment, experiments)\n",
        "    \n",
        "    aco_history.extend(experiments_results)"
      ]
    },
    {
      "cell_type": "code",
      "execution_count": null,
      "metadata": {},
      "outputs": [],
      "source": [
        "import pandas as pd\n",
        "\n",
        "df_score_aco = pd.DataFrame.from_dict(networkx_history)\n",
        "# df_score_aco.to_csv(os.path.join(INSTANCES_PATH_PREFIX, 'ACO.csv'))"
      ]
    }
  ],
  "metadata": {
    "colab": {
      "collapsed_sections": [],
      "name": "Prize-Collecting Steiner Tree Problem.ipynb",
      "provenance": []
    },
    "kernelspec": {
      "display_name": "Python 3",
      "name": "python3"
    },
    "language_info": {
      "codemirror_mode": {
        "name": "ipython",
        "version": 3
      },
      "file_extension": ".py",
      "mimetype": "text/x-python",
      "name": "python",
      "nbconvert_exporter": "python",
      "pygments_lexer": "ipython3",
      "version": "3.8.10"
    }
  },
  "nbformat": 4,
  "nbformat_minor": 0
}
