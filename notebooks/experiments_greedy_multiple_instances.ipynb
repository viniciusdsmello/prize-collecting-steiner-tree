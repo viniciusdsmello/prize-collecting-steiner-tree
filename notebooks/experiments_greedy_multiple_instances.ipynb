{
  "cells": [
    {
      "cell_type": "markdown",
      "metadata": {
        "id": "I1TYM0I17plX"
      },
      "source": [
        "# Prize-Collecting Steiner Tree (PCSTP)"
      ]
    },
    {
      "cell_type": "markdown",
      "metadata": {
        "id": "m5h7aHqj7uS9"
      },
      "source": [
        "## Libs Importing"
      ]
    },
    {
      "cell_type": "code",
      "execution_count": null,
      "metadata": {
        "id": "xLJwhd8Ctj0U"
      },
      "outputs": [],
      "source": [
        "import sys\n",
        "import os\n",
        "import time\n",
        "import networkx as nx\n",
        "\n",
        "sys.path.insert(1, os.path.realpath(os.path.pardir))"
      ]
    },
    {
      "cell_type": "code",
      "execution_count": null,
      "metadata": {},
      "outputs": [],
      "source": [
        "import multiprocessing\n",
        "\n",
        "NUM_PROCESSES = multiprocessing.cpu_count()\n",
        "print(\"Number of cpu : \", NUM_PROCESSES)"
      ]
    },
    {
      "cell_type": "code",
      "execution_count": null,
      "metadata": {},
      "outputs": [],
      "source": [
        "from pcstp.instances.generator import generate_random_steiner\n",
        "from pcstp.instances.reader import SteinlibReader, DatReader\n",
        "\n",
        "from pcstp.steinertree import SteinerTreeProblem\n",
        "from pcstp.solver.base import computes_steiner_cost\n",
        "from pcstp.solver.aco import AntColony\n",
        "from pcstp.solver.greedy_h1 import GreedyH1\n",
        "\n",
        "from pcstp.utils.graph import preprocessing\n",
        "from pcstp.utils.draw import draw_steiner_graph"
      ]
    },
    {
      "cell_type": "markdown",
      "metadata": {
        "id": "Q_po-aQf7_KF"
      },
      "source": [
        "## Experiments"
      ]
    },
    {
      "cell_type": "code",
      "execution_count": null,
      "metadata": {},
      "outputs": [],
      "source": [
        "SEED = 100"
      ]
    },
    {
      "cell_type": "markdown",
      "metadata": {},
      "source": [
        "\n",
        "# Greedy"
      ]
    },
    {
      "cell_type": "code",
      "execution_count": null,
      "metadata": {},
      "outputs": [],
      "source": [
        "import glob\n",
        "import random\n",
        "import numpy as np\n",
        "\n",
        "INSTANCES_PATH_PREFIX = '../data/instances/benchmark/PCSPG-CRR'\n",
        "NUM_EXPERIMENTS_PER_INSTANCE = 5\n",
        "\n",
        "all_files = glob.glob(os.path.join(INSTANCES_PATH_PREFIX, '*'))\n",
        "\n",
        "files = all_files\n",
        "\n",
        "greedy_history = []\n",
        "solutions = {}\n",
        "\n",
        "for filename in files:\n",
        "    if filename.endswith('.xlsx'): continue\n",
        "    if filename.endswith('.stp'):\n",
        "        stp_reader = SteinlibReader()\n",
        "    else:\n",
        "        stp_reader = DatReader()\n",
        "\n",
        "    print(f\"Reading: {filename}\")\n",
        "    stp = stp_reader.parser(filename=filename)\n",
        "    G, terminals = preprocessing(stp.graph, stp.terminals)\n",
        "    stp_preprocessed = SteinerTreeProblem(graph=G, terminals=terminals)\n",
        "    print(\"Nodes: \", len(stp_preprocessed.graph.nodes))\n",
        "    print(\"Edges: \", len(stp_preprocessed.graph.edges))\n",
        "    # print(\"Terminals: \", stp_preprocessed.terminals)\n",
        "    def run_experiment(experiment: int):\n",
        "        if SEED:\n",
        "            np.random.seed(SEED*experiment)\n",
        "            random.seed(SEED*experiment)\n",
        "        solver = GreedyH1(stp_preprocessed.graph, list(stp_preprocessed.terminals), log_level='info')\n",
        "        steiner_tree, greedy_cost = solver.solve()\n",
        "        print(f'Cost: {greedy_cost} ')\n",
        "\n",
        "        history = {\n",
        "            \"filename\": filename,\n",
        "            \"experiment\": experiment,\n",
        "            \"num_nodes\": stp.num_nodes,\n",
        "            \"num_edges\": stp.num_edges,\n",
        "            \"num_nodes_after_preprocessing\": len(stp_preprocessed.graph.nodes),\n",
        "            \"num_edges_after_preprocessing\": len(stp_preprocessed.graph.edges),\n",
        "            \"terminals\": stp.num_terminals,\n",
        "            \"steiner_cost\": greedy_cost,\n",
        "            \"duration\": solver._duration\n",
        "        }\n",
        "        return history, solver\n",
        "\n",
        "    experiments = range(1, NUM_EXPERIMENTS_PER_INSTANCE+1)\n",
        "\n",
        "    with multiprocessing.Pool(processes=NUM_PROCESSES) as p:\n",
        "        experiments_results = p.map(run_experiment, experiments)\n",
        "\n",
        "    \n",
        "    greedy_history.extend([result[0] for result in experiments_results])\n",
        "    solutions[filename] = [result[1] for result in experiments_results]\n"
      ]
    },
    {
      "cell_type": "code",
      "execution_count": null,
      "metadata": {},
      "outputs": [],
      "source": [
        "import pandas as pd\n",
        "\n",
        "df_score_greedy = pd.DataFrame.from_dict(greedy_history)"
      ]
    },
    {
      "cell_type": "code",
      "execution_count": null,
      "metadata": {},
      "outputs": [],
      "source": [
        "experiment = 4\n",
        "G = solutions['../data/instances/benchmark/PCSPG-CRR/C03-A.stp'][experiment].graph\n",
        "steiner_tree = solutions['../data/instances/benchmark/PCSPG-CRR/C03-A.stp'][experiment].steiner_tree"
      ]
    },
    {
      "cell_type": "code",
      "execution_count": null,
      "metadata": {},
      "outputs": [],
      "source": [
        "sum(list(nx.get_node_attributes(G, 'prize').values()))"
      ]
    }
  ],
  "metadata": {
    "colab": {
      "collapsed_sections": [],
      "name": "Prize-Collecting Steiner Tree Problem.ipynb",
      "provenance": []
    },
    "kernelspec": {
      "display_name": "Python 3",
      "name": "python3"
    },
    "language_info": {
      "codemirror_mode": {
        "name": "ipython",
        "version": 3
      },
      "file_extension": ".py",
      "mimetype": "text/x-python",
      "name": "python",
      "nbconvert_exporter": "python",
      "pygments_lexer": "ipython3",
      "version": "3.8.10"
    }
  },
  "nbformat": 4,
  "nbformat_minor": 0
}
