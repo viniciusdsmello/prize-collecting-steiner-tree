{
  "cells": [
    {
      "cell_type": "markdown",
      "metadata": {
        "id": "I1TYM0I17plX"
      },
      "source": [
        "# Prize-Collecting Steiner Tree (PCSTP)"
      ]
    },
    {
      "cell_type": "markdown",
      "metadata": {
        "id": "m5h7aHqj7uS9"
      },
      "source": [
        "## Libs Importing"
      ]
    },
    {
      "cell_type": "code",
      "execution_count": 1,
      "metadata": {
        "id": "xLJwhd8Ctj0U"
      },
      "outputs": [],
      "source": [
        "import sys\n",
        "import os\n",
        "import time\n",
        "import networkx as nx\n",
        "\n",
        "sys.path.insert(1, os.path.realpath(os.path.pardir))"
      ]
    },
    {
      "cell_type": "code",
      "execution_count": 2,
      "metadata": {},
      "outputs": [
        {
          "name": "stdout",
          "output_type": "stream",
          "text": [
            "Number of cpu :  12\n"
          ]
        }
      ],
      "source": [
        "import multiprocessing\n",
        "\n",
        "NUM_PROCESSES = multiprocessing.cpu_count()\n",
        "print(\"Number of cpu : \", NUM_PROCESSES)"
      ]
    },
    {
      "cell_type": "code",
      "execution_count": 3,
      "metadata": {},
      "outputs": [],
      "source": [
        "from pcstp.instances.generator import generate_random_steiner\n",
        "from pcstp.instances.reader import SteinlibReader, DatReader\n",
        "\n",
        "from pcstp.steinertree import SteinerTreeProblem\n",
        "from pcstp.solver.base import computes_steiner_cost\n",
        "from pcstp.solver.aco import AntColony\n",
        "from pcstp.solver.greedy_h1 import GreedyH1\n",
        "\n",
        "from pcstp.utils.graph import preprocessing\n",
        "from pcstp.utils.draw import draw_steiner_graph"
      ]
    },
    {
      "cell_type": "markdown",
      "metadata": {
        "id": "Q_po-aQf7_KF"
      },
      "source": [
        "## Experiments"
      ]
    },
    {
      "cell_type": "code",
      "execution_count": 4,
      "metadata": {},
      "outputs": [],
      "source": [
        "SEED = 100"
      ]
    },
    {
      "cell_type": "code",
      "execution_count": 6,
      "metadata": {},
      "outputs": [
        {
          "name": "stdout",
          "output_type": "stream",
          "text": [
            "Reading: ../data/instances/benchmark/PCSPG-CRR/C01-A.stp\n",
            "Cost:  88.0\n",
            "Cost:  88.0\n",
            "Cost:  88.0\n",
            "Cost: Cost:   88.088.0\n",
            "\n",
            "Cost:  88.0\n",
            "Cost: Cost: Cost:   88.0 88.0Cost: 88.0\n",
            "\n",
            "\n",
            " 88.0\n",
            "Reading: ../data/instances/benchmark/PCSPG-CRR/C05-A.stp\n",
            "Cost:  1604.0\n",
            "Cost:  1604.0\n",
            "Cost:  Cost: 1604.0 \n",
            "1604.0\n",
            "Cost: Cost:   1604.0\n",
            "1604.0\n",
            "Cost: Cost:   1604.01604.0\n",
            "\n",
            "Cost:  1604.0\n",
            "Cost:  1604.0\n",
            "Reading: ../data/instances/benchmark/PCSPG-CRR/C04-A.stp\n",
            "Cost:  1110.0\n",
            "Cost:  1110.0\n",
            "Cost: Cost:   1110.0\n",
            "1110.0\n",
            "Cost: Cost:   1110.01110.0Cost: Cost: \n",
            "\n",
            "  1110.01110.0\n",
            "Cost: \n",
            "Cost:   1110.01110.0\n",
            "\n",
            "Reading: ../data/instances/benchmark/PCSPG-CRR/C02-A.stp\n",
            "Cost: Cost:   144.0144.0\n",
            "\n",
            "Cost:  144.0\n",
            "Cost: Cost:   Cost: 144.0144.0 Cost: \n",
            "\n",
            "144.0\n",
            " 144.0\n",
            "Cost:  144.0\n",
            "Cost:  144.0\n",
            "Cost:  144.0\n",
            "Reading: ../data/instances/benchmark/PCSPG-CRR/C03-A.stp\n",
            "Cost:  Cost: 779.0 \n",
            "779.0\n",
            "Cost: Cost:   779.0Cost: \n",
            " 779.0\n",
            "779.0\n",
            "Cost:  Cost: 779.0\n",
            " 779.0Cost: \n",
            " 779.0\n",
            "Cost:  779.0\n",
            "Cost:  779.0\n"
          ]
        }
      ],
      "source": [
        "import glob\n",
        "\n",
        "INSTANCES_PATH_PREFIX = '../data/instances/benchmark/PCSPG-CRR'\n",
        "NUM_EXPERIMENTS_PER_INSTANCE = 10\n",
        "\n",
        "all_files = glob.glob(os.path.join(INSTANCES_PATH_PREFIX, '*'))\n",
        "\n",
        "files = all_files\n",
        "\n",
        "networkx_history = []\n",
        "solutions = {}\n",
        "for filename in files:\n",
        "    if filename.endswith('.xlsx'): continue\n",
        "    if filename.endswith('.stp'):\n",
        "        stp_reader = SteinlibReader()\n",
        "    else:\n",
        "        stp_reader = DatReader()\n",
        "\n",
        "    print(f\"Reading: {filename}\")\n",
        "    stp = stp_reader.parser(filename=filename)\n",
        "    G, terminals = preprocessing(stp.graph, stp.terminals)\n",
        "    stp_preprocessed = SteinerTreeProblem(graph=G, terminals=terminals)\n",
        "    \n",
        "    def run_experiment(experiment: int):\n",
        "        start_time = time.time()\n",
        "        nx_steiner_tree = nx.algorithms.approximation.steiner_tree(\n",
        "            stp_preprocessed.graph,\n",
        "            stp_preprocessed.terminals,\n",
        "            weight='cost'\n",
        "        )\n",
        "\n",
        "        networkx_duration = time.time() - start_time\n",
        "        networkx_cost = computes_steiner_cost(stp.graph, nx_steiner_tree, stp.terminals)\n",
        "\n",
        "        history = {\n",
        "            \"filename\": filename,\n",
        "            \"experiment\": experiment,\n",
        "            \"num_nodes\": stp.num_nodes,\n",
        "            \"num_edges\": stp.num_edges,\n",
        "            \"num_nodes_after_preprocessing\": len(stp_preprocessed.graph.nodes),\n",
        "            \"num_edges_after_preprocessing\": len(stp_preprocessed.graph.edges),\n",
        "            \"terminals\": stp.num_terminals,\n",
        "            \"steiner_cost\": networkx_cost,\n",
        "            \"duration\": networkx_duration\n",
        "        }\n",
        "        print('Cost: ', networkx_cost)\n",
        "        return history, nx_steiner_tree.copy()\n",
        "        \n",
        "    experiments = range(1, NUM_EXPERIMENTS_PER_INSTANCE+1)\n",
        "\n",
        "    with multiprocessing.Pool(processes=NUM_PROCESSES) as p:\n",
        "        experiments_results = p.map(run_experiment, experiments)\n",
        "    \n",
        "    networkx_history.extend([result[0] for result in experiments_results])\n",
        "    solutions[filename] = [result[1] for result in experiments_results]"
      ]
    },
    {
      "cell_type": "code",
      "execution_count": null,
      "metadata": {},
      "outputs": [],
      "source": [
        "import pandas as pd\n",
        "\n",
        "df_score_networkx = pd.DataFrame.from_dict(networkx_history)\n",
        "df_score_networkx.to_csv(os.path.join(INSTANCES_PATH_PREFIX, 'NETWORKX.csv'))"
      ]
    },
    {
      "cell_type": "code",
      "execution_count": null,
      "metadata": {},
      "outputs": [],
      "source": [
        "df_score_networkx.groupby('filename')[['duration', 'steiner_cost']].describe()"
      ]
    },
    {
      "cell_type": "code",
      "execution_count": 8,
      "metadata": {},
      "outputs": [],
      "source": [
        "experiment = 4\n",
        "G = solutions['../data/instances/benchmark/PCSPG-CRR/C03-A.stp'][experiment].graph\n",
        "steiner_tree = solutions['../data/instances/benchmark/PCSPG-CRR/C03-A.stp'][experiment]"
      ]
    },
    {
      "cell_type": "code",
      "execution_count": 10,
      "metadata": {},
      "outputs": [
        {
          "data": {
            "text/plain": [
              "<networkx.classes.graph.Graph at 0x7f4f12451310>"
            ]
          },
          "execution_count": 10,
          "metadata": {},
          "output_type": "execute_result"
        }
      ],
      "source": [
        "steiner_tree"
      ]
    }
  ],
  "metadata": {
    "colab": {
      "collapsed_sections": [],
      "name": "Prize-Collecting Steiner Tree Problem.ipynb",
      "provenance": []
    },
    "kernelspec": {
      "display_name": "Python 3",
      "name": "python3"
    },
    "language_info": {
      "codemirror_mode": {
        "name": "ipython",
        "version": 3
      },
      "file_extension": ".py",
      "mimetype": "text/x-python",
      "name": "python",
      "nbconvert_exporter": "python",
      "pygments_lexer": "ipython3",
      "version": "3.8.10"
    }
  },
  "nbformat": 4,
  "nbformat_minor": 0
}
