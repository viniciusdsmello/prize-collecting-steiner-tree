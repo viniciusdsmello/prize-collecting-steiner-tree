{
  "cells": [
    {
      "cell_type": "markdown",
      "metadata": {
        "id": "I1TYM0I17plX"
      },
      "source": [
        "# Prize-Collecting Steiner Tree (PCSTP)"
      ]
    },
    {
      "cell_type": "markdown",
      "metadata": {
        "id": "m5h7aHqj7uS9"
      },
      "source": [
        "## Libs Importing"
      ]
    },
    {
      "cell_type": "code",
      "execution_count": null,
      "metadata": {
        "id": "xLJwhd8Ctj0U"
      },
      "outputs": [],
      "source": [
        "import sys\n",
        "import os\n",
        "import time\n",
        "import networkx as nx\n",
        "from typing import Tuple, Set\n",
        "\n",
        "sys.path.insert(1, os.path.realpath(os.path.pardir))"
      ]
    },
    {
      "cell_type": "code",
      "execution_count": null,
      "metadata": {},
      "outputs": [],
      "source": [
        "from pcstp.instances.generator import generate_random_steiner\n",
        "from pcstp.utils.draw import draw_steiner_graph"
      ]
    },
    {
      "cell_type": "markdown",
      "metadata": {
        "id": "Q_po-aQf7_KF"
      },
      "source": [
        "## Experiments"
      ]
    },
    {
      "cell_type": "code",
      "execution_count": null,
      "metadata": {
        "colab": {
          "base_uri": "https://localhost:8080/",
          "height": 0
        },
        "id": "bvVdAGsytqfP",
        "outputId": "4aae3d05-05b8-44a8-fae0-7bea9b3435b1"
      },
      "outputs": [],
      "source": [
        "G, (nodes, edges, position_matrix, edges_cost, terminals, prizes) = generate_random_steiner(\n",
        "    num_nodes=25,\n",
        "    num_edges=20,\n",
        "    max_node_degree=10,\n",
        "    min_prize=0,\n",
        "    max_prize=100,\n",
        "    num_terminals=5,\n",
        "    min_edge_cost=0,\n",
        "    max_edge_cost=10,\n",
        "    cost_as_length=False,\n",
        "    max_iter=100,\n",
        "    seed=11\n",
        ")"
      ]
    },
    {
      "cell_type": "code",
      "execution_count": null,
      "metadata": {
        "id": "sJZLsXUDrzEK"
      },
      "outputs": [],
      "source": [
        "from pcstp.steinertree import SteinerTreeProblem\n",
        "from pcstp.instances.reader import SteinlibReader, DatReader\n",
        "from pcstp.solver.base import computes_steiner_cost"
      ]
    },
    {
      "cell_type": "markdown",
      "metadata": {},
      "source": [
        "The instance can be imported from a file or generated through the instance generator presented above."
      ]
    },
    {
      "cell_type": "code",
      "execution_count": null,
      "metadata": {
        "id": "kZK_hm8hvQlM"
      },
      "outputs": [],
      "source": [
        "stp_reader = SteinlibReader()\n",
        "stp = stp_reader.parser(filename='../data/instances/stp/C01-A.stp')"
      ]
    },
    {
      "cell_type": "code",
      "execution_count": null,
      "metadata": {},
      "outputs": [],
      "source": [
        "# stp = SteinerTreeProblem(graph=G, terminals=terminals)"
      ]
    },
    {
      "cell_type": "code",
      "execution_count": null,
      "metadata": {},
      "outputs": [],
      "source": [
        "from pcstp.solver.base import computes_steiner_cost"
      ]
    },
    {
      "cell_type": "code",
      "execution_count": null,
      "metadata": {},
      "outputs": [],
      "source": [
        "from pcstp.utils.graph import preprocessing"
      ]
    },
    {
      "cell_type": "code",
      "execution_count": null,
      "metadata": {},
      "outputs": [],
      "source": [
        "G, terminals = preprocessing(stp.graph, stp.terminals)"
      ]
    },
    {
      "cell_type": "code",
      "execution_count": null,
      "metadata": {},
      "outputs": [],
      "source": [
        "stp_preprocessed = SteinerTreeProblem(graph=G, terminals=terminals)"
      ]
    },
    {
      "cell_type": "code",
      "execution_count": null,
      "metadata": {},
      "outputs": [],
      "source": [
        "# stp_preprocessed.graph.edges[(128, 127)]"
      ]
    },
    {
      "cell_type": "markdown",
      "metadata": {},
      "source": [
        "## Solution obtained with NetworkX Steiner Tree Approximation Algorithm"
      ]
    },
    {
      "cell_type": "code",
      "execution_count": null,
      "metadata": {},
      "outputs": [],
      "source": [
        "start_time = time.time()\n",
        "\n",
        "nx_steiner_tree = nx.algorithms.approximation.steinertree.steiner_tree(\n",
        "    stp_preprocessed.graph,\n",
        "    stp_preprocessed.terminals,\n",
        "    weight='cost'\n",
        ")\n",
        "\n",
        "networkx_duration = time.time() - start_time\n",
        "networkx_cost = computes_steiner_cost(stp_preprocessed.graph, nx_steiner_tree, stp_preprocessed.terminals)\n"
      ]
    },
    {
      "cell_type": "code",
      "execution_count": null,
      "metadata": {},
      "outputs": [],
      "source": [
        "print(f'Cost: {networkx_cost}')\n",
        "print(f'Duration: {networkx_duration*1000} ms')"
      ]
    },
    {
      "cell_type": "code",
      "execution_count": null,
      "metadata": {},
      "outputs": [],
      "source": [
        "# draw_steiner_graph(\n",
        "#     stp.graph,\n",
        "#     steiner_graph=nx_steiner_tree,\n",
        "#     plot_title=f'NetworkX Implementation - Cost ({networkx_cost}) - Time ({networkx_duration * 1000} ms)',\n",
        "#     node_label='name'\n",
        "# )\n"
      ]
    },
    {
      "cell_type": "markdown",
      "metadata": {},
      "source": [
        "## Solution obtained with Greedy Heuristic Algorithm"
      ]
    },
    {
      "cell_type": "code",
      "execution_count": null,
      "metadata": {},
      "outputs": [],
      "source": [
        "from pcstp.solver.greedy_h1 import GreedyH1"
      ]
    },
    {
      "cell_type": "code",
      "execution_count": null,
      "metadata": {},
      "outputs": [],
      "source": [
        "# %%timeit -n 100\n",
        "\n",
        "solver = GreedyH1(stp_preprocessed.graph, list(stp_preprocessed.terminals), log_level='info')\n",
        "steiner_tree, greedy_cost = solver.solve()\n"
      ]
    },
    {
      "cell_type": "code",
      "execution_count": null,
      "metadata": {},
      "outputs": [],
      "source": [
        "print(f'Cost: {solver.steiner_cost}')\n",
        "print(f'Duration: {solver._duration*1000} ms')"
      ]
    },
    {
      "cell_type": "code",
      "execution_count": null,
      "metadata": {},
      "outputs": [],
      "source": [
        "# %%timeit -n 100\n",
        "\n",
        "preprocessed_graph_solver = GreedyH1(stp_preprocessed.graph, stp_preprocessed.terminals, log_level='info')\n",
        "preprocessed_graph_steiner_tree, preprocessed_graph_greedy_cost = preprocessed_graph_solver.solve()"
      ]
    },
    {
      "cell_type": "code",
      "execution_count": null,
      "metadata": {},
      "outputs": [],
      "source": [
        "print(f'Cost: {preprocessed_graph_solver.steiner_cost}')\n",
        "print(f'Duration: {preprocessed_graph_solver._duration*1000} ms')"
      ]
    },
    {
      "cell_type": "code",
      "execution_count": null,
      "metadata": {},
      "outputs": [],
      "source": [
        "print(f'Cost: {preprocessed_graph_greedy_cost}')"
      ]
    },
    {
      "cell_type": "code",
      "execution_count": null,
      "metadata": {},
      "outputs": [],
      "source": [
        "# draw_steiner_graph(\n",
        "#     stp.graph,\n",
        "#     steiner_graph=steiner_tree,\n",
        "#     plot_title=f'Greedy Heuristic (Shortest Path) - Cost ({greedy_cost}) - Time ({solver._duration * 1000} ms)',\n",
        "#     node_label='name'\n",
        "# )"
      ]
    },
    {
      "cell_type": "code",
      "execution_count": null,
      "metadata": {},
      "outputs": [],
      "source": [
        "# draw_steiner_graph(\n",
        "#     stp.graph,\n",
        "#     steiner_graph=preprocessed_graph_steiner_tree,\n",
        "#     plot_title=f'Greedy Heuristic (Shortest Path) - Cost ({preprocessed_graph_greedy_cost}) - Time ({preprocessed_graph_solver._duration * 1000} ms)',\n",
        "#     node_label='name'\n",
        "# )\n"
      ]
    }
  ],
  "metadata": {
    "colab": {
      "collapsed_sections": [],
      "name": "Prize-Collecting Steiner Tree Problem.ipynb",
      "provenance": []
    },
    "kernelspec": {
      "display_name": "Python 3",
      "name": "python3"
    },
    "language_info": {
      "codemirror_mode": {
        "name": "ipython",
        "version": 3
      },
      "file_extension": ".py",
      "mimetype": "text/x-python",
      "name": "python",
      "nbconvert_exporter": "python",
      "pygments_lexer": "ipython3",
      "version": "3.8.10"
    }
  },
  "nbformat": 4,
  "nbformat_minor": 0
}
